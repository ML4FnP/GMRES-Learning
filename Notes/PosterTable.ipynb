{
 "cells": [
  {
   "cell_type": "markdown",
   "metadata": {},
   "source": [
    "| Grid size $(n \\times n)$                           |  20 | 25  | 30    |35 | 40    |\n",
    "|---                          |---    |---    |---    |---     |---     |\n",
    "|Total MLGMRES Time (s)            | 667  |1238   |1971  |3022  |5352   |\n",
    "|Total Training Time (s)            | 95.1  |86.2   |95.2   |101.5   |108.1   |\n",
    "|Total Training Time/Total Solver Time    | 0.14  | 0.07  |0.05   |0.033   | 0.023  |"
   ]
  }
 ],
 "metadata": {
  "kernelspec": {
   "display_name": "Python 3.8.2 64-bit",
   "language": "python",
   "name": "python38264bit359c2a466ef84111b6a28b31954f4d30"
  },
  "language_info": {
   "codemirror_mode": {
    "name": "ipython",
    "version": 3
   },
   "file_extension": ".py",
   "mimetype": "text/x-python",
   "name": "python",
   "nbconvert_exporter": "python",
   "pygments_lexer": "ipython3",
   "version": "3.8.2"
  }
 },
 "nbformat": 4,
 "nbformat_minor": 4
}
