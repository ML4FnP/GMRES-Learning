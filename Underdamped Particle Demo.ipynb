{
 "cells": [
  {
   "cell_type": "code",
   "execution_count": 1,
   "id": "a5e0cb13-bfeb-4488-804e-e61c8c8dd25b",
   "metadata": {},
   "outputs": [],
   "source": [
    "%matplotlib inline\n",
    "from matplotlib.pylab import *"
   ]
  },
  {
   "cell_type": "code",
   "execution_count": 2,
   "id": "86c4ec54-2888-4d97-9967-67f148b3d21f",
   "metadata": {},
   "outputs": [],
   "source": [
    "import numpy  as np\n",
    "from PyGMRES.gmres import GMRES\n",
    "from PyGMRES.linop import laplace_2d_dirichlet, laplace_2d_extrap, resid\n",
    "from PyGMRES.compiler.numba import jit"
   ]
  },
  {
   "cell_type": "code",
   "execution_count": 3,
   "id": "f6cc3d58-f50b-4d63-84ca-0361081d8ab1",
   "metadata": {},
   "outputs": [
    {
     "data": {
      "text/plain": [
       "{FunctionDescriptor(module='PyGMRES.gmres', name='GMRES', signature=<Signature (A, b, x0, e, nmax_iter, restart=None, debug=False)>, func=<function GMRES at 0x129496c10>),\n",
       " FunctionDescriptor(module='PyGMRES.gmres', name='update_solution', signature=<Signature (x, y, q)>, func=<function update_solution at 0x10a8034c0>),\n",
       " FunctionDescriptor(module='PyGMRES.linop', name='laplace_1d', signature=<Signature (x, i)>, func=<function laplace_1d at 0x12948ce50>),\n",
       " FunctionDescriptor(module='PyGMRES.linop', name='laplace_1d_constextrap', signature=<Signature (x_in)>, func=<function laplace_1d_constextrap at 0x1294961f0>),\n",
       " FunctionDescriptor(module='PyGMRES.linop', name='laplace_1d_dirichlet', signature=<Signature (x_in, xlo, xhi)>, func=<function laplace_1d_dirichlet at 0x129496040>),\n",
       " FunctionDescriptor(module='PyGMRES.linop', name='laplace_1d_extrap', signature=<Signature (x_in)>, func=<function laplace_1d_extrap at 0x1294963a0>),\n",
       " FunctionDescriptor(module='PyGMRES.linop', name='laplace_2d', signature=<Signature (x, i, j)>, func=<function laplace_2d at 0x129496550>),\n",
       " FunctionDescriptor(module='PyGMRES.linop', name='laplace_2d_constextrap', signature=<Signature (x_in)>, func=<function laplace_2d_constextrap at 0x129496a60>),\n",
       " FunctionDescriptor(module='PyGMRES.linop', name='laplace_2d_dirichlet', signature=<Signature (x_in, xlo, xhi, ylo, yhi)>, func=<function laplace_2d_dirichlet at 0x129496700>),\n",
       " FunctionDescriptor(module='PyGMRES.linop', name='laplace_2d_extrap', signature=<Signature (x_in)>, func=<function laplace_2d_extrap at 0x1294968b0>),\n",
       " FunctionDescriptor(module='PyGMRES.linop', name='mat_to_a', signature=<Signature (a)>, func=<function mat_to_a at 0x12948c790>),\n",
       " FunctionDescriptor(module='PyGMRES.linop', name='matmul_a', signature=<Signature (a, b)>, func=<function matmul_a at 0x12948c820>),\n",
       " FunctionDescriptor(module='PyGMRES.linop', name='resid', signature=<Signature (A, x, b)>, func=<function resid at 0x12948c8b0>)}"
      ]
     },
     "execution_count": 3,
     "metadata": {},
     "output_type": "execute_result"
    }
   ],
   "source": [
    "from PyGMRES.compiler import Decorated\n",
    "\n",
    "decorated = Decorated()\n",
    "decorated.record"
   ]
  },
  {
   "cell_type": "code",
   "execution_count": 4,
   "id": "34dee2b2-be86-47d8-a50e-082ccbf8dcf9",
   "metadata": {
    "tags": []
   },
   "outputs": [],
   "source": [
    "import itertools\n",
    "from   os.path import join\n",
    "from   src_dir import Gauss_pdf_2D"
   ]
  },
  {
   "cell_type": "code",
   "execution_count": 5,
   "id": "5e736e23-776c-4263-9335-292f6b7bb9e9",
   "metadata": {},
   "outputs": [],
   "source": [
    "# Set dimension of the NxN grid used\n",
    "# Note: For optimal performance, the neural network \"cnn_collectionOnline2D.py\"\n",
    "# can be tweaked with appropriate kernel dilations, however the code should\n",
    "# still work and yield resuluts for any dimension of input provided\n",
    "dim = 80\n",
    "\n",
    "# Default initial guess used for direct un-preconditioned GMRES is the zero\n",
    "# solution\n",
    "x0 = np.squeeze(np.zeros((dim,dim)))\n",
    "\n",
    "# Set tolerances for GMRES solver\n",
    "e = 1e-6\n",
    "\n",
    "# Restarted GMRES parameters\n",
    "nmax_iter = 10   # int(dim/5)\n",
    "restart   = 10000\n",
    "\n",
    "# Create domain [-1,1]x[-1,1]\n",
    "# Define grid values at midpoints of cartesian grid\n",
    "DomainL = -1.0\n",
    "DomainR =  1.0\n",
    "dx = (DomainR-DomainL)/(dim-1)\n",
    "x1 = np.linspace(DomainL+dx,DomainR-dx,dim)\n",
    "x2 = np.linspace(DomainL+dx,DomainR-dx,dim)\n",
    "X, Y = np.meshgrid(x1, x2, sparse=False, indexing='ij')\n",
    "Area = (dx*(dim-1))**2\n",
    "\n",
    "# Create 2D laplace opertor as a stencil opertor for a N-cell 2D grid\n",
    "# Can be found in linop.py in src_di\n",
    "A = laplace_2d_extrap\n",
    "AType = '2D Laplacian'\n",
    "\n",
    "# Uniform time-step used\n",
    "dt = 0.0001\n",
    "n_steps = 10000"
   ]
  },
  {
   "cell_type": "code",
   "execution_count": 6,
   "id": "a72442ef-ea18-4ed8-b0b4-37bd41cc6e13",
   "metadata": {},
   "outputs": [],
   "source": [
    "def particle(X, Y, x, y, charge, sigma):\n",
    "    b = charge*Gauss_pdf_2D(X, Y, x, y, sigma)\n",
    "    b[0,  :] = 0\n",
    "    b[-1, :] = 0\n",
    "    b[:,  0] = 0\n",
    "    b[:, -1] = 0\n",
    "    return b\n",
    "\n",
    "def force(dx, X, Y, phi_x, phi_y, x, y,sigma):\n",
    "    weights = Gauss_pdf_2D(X, Y, x, y, sigma)\n",
    "    return np.array([\n",
    "        np.sum(phi_x*weights),\n",
    "        np.sum(phi_y*weights)\n",
    "    ])*dx**2"
   ]
  },
  {
   "cell_type": "code",
   "execution_count": null,
   "id": "ab840503-f71c-45a9-8a20-f3b5abf4ce51",
   "metadata": {},
   "outputs": [],
   "source": [
    "from src_dir import cnn_preconditionerOnline_timed_2D, CNNPredictorOnline_2D,\\\n",
    "                    timer, PreconditionerTrainer, FluidNet2D30\n",
    "\n",
    "# Note: # Model dimention inputs are not used for the current network in cnn_predictorOnline2D.py (but must be passed into wrapper)\n",
    "InputDim  = dim\n",
    "OutputDim = dim\n",
    "# Number of samples to collect before using preduction from Neural Network:\n",
    "Initial_set = 32\n",
    "\n",
    "nn_precon = CNNPredictorOnline_2D(InputDim, OutputDim, Area, dx, FluidNet2D30)\n",
    "# TODO: using diagnostic_probe=10 => end of first inner loop for the current setup => generalize this\n",
    "trainer   = PreconditionerTrainer(nn_precon, Initial_set=Initial_set, diagnostic_probe=22)\n",
    "\n",
    "@timer\n",
    "@cnn_preconditionerOnline_timed_2D(trainer)\n",
    "def MLGMRES(A, b, x0, e, nmax_iter, restart, debug):\n",
    "    return GMRES(A, b, x0, e, nmax_iter, restart, debug)\n",
    "\n",
    "@timer\n",
    "def GMRES_timed(A, b, x0, e, nmax_iter, restart, debug):\n",
    "    return GMRES(A, b, x0, e, nmax_iter, restart, debug)"
   ]
  },
  {
   "cell_type": "code",
   "execution_count": null,
   "id": "eb6e9c5f-0ab2-4f7b-8c92-3f68c943f47f",
   "metadata": {},
   "outputs": [],
   "source": [
    "def time_step(sol_fn, mot, dt, dx, X, Y, p_0, v_0, p_lo, p_hi, charge, sigma):\n",
    "    b = particle(X, Y, *p_0[0, :], charge[0], sigma)\n",
    "    for i in range(1, len(charge)):\n",
    "        b += particle(X, Y, *p_0[i, :], charge[i], sigma)\n",
    "    \n",
    "    Out, run_time = sol_fn(A, b, x0, e, nmax_iter, restart, True)\n",
    "    phi = Out[-1]\n",
    "    # this is pretty powerful: https://numpy.org/doc/stable/reference/generated/numpy.gradient.html\n",
    "    phi_x, phi_y = np.gradient(phi)\n",
    "    \n",
    "    p_1 = np.zeros_like(p_0)\n",
    "    v_1 = np.zeros_like(v_0)\n",
    "    for i in range(1, len(charge)):\n",
    "        v_1[i, :] = v_0[i, :] + mot*dt*charge[i]*force(dx, X, Y, phi_x, phi_y, *p_0[i,:], sigma)\n",
    "        p_1[i, :] = p_0[i, :] + dt*v_1[i,:]\n",
    "        if p_1[i, 0] < p_lo:\n",
    "            p_1[i, 0] = p_lo\n",
    "            v_1[i, 0] = - v_1[i, 0]\n",
    "        if p_1[i, 0] > p_hi:\n",
    "            p_1[i, 0] = p_hi\n",
    "            v_1[i, 0] = - v_1[i, 0]\n",
    "        if p_1[i, 1] < p_lo:\n",
    "            p_1[i, 1] = p_lo\n",
    "            v_1[i, 1] = - v_1[i, 1]\n",
    "        if p_1[i, 1] > p_hi:\n",
    "            p_1[i, 1] = p_hi\n",
    "            v_1[i, 1] = - v_1[i, 1]\n",
    "    \n",
    "    return p_1, v_1, b, phi, phi_x, phi_y, Out, run_time"
   ]
  },
  {
   "cell_type": "code",
   "execution_count": null,
   "id": "e6dfeb0b-b289-4ade-9d5f-cf926264c843",
   "metadata": {},
   "outputs": [],
   "source": [
    "p_0 = np.array(\n",
    "    [[0, 0],\n",
    "     [-0.6, 0.6],\n",
    "     [0.1, -0.5],\n",
    "     [0.2, 0.5],\n",
    "     [-0.1, 0.5],\n",
    "     [-0.2, -0.5],\n",
    "     [0.6, -0.6],\n",
    "     [0.6, -0.2],\n",
    "     [-0.75, -.25],\n",
    "     [0.75, 0.75],\n",
    "     [-0.25, 0.25],\n",
    "     [0., 0.75],\n",
    "     [-0.75, 0],\n",
    "     [-0.75, -0.75]]\n",
    ")\n",
    "charge = np.array(\n",
    "    [ 1,\n",
    "     -1,\n",
    "      1,\n",
    "     -1,\n",
    "     -1,\n",
    "      1,\n",
    "     -1,\n",
    "      1,\n",
    "      1,\n",
    "     -1,\n",
    "     -1,\n",
    "      1,\n",
    "      1,\n",
    "     -1]\n",
    ")\n",
    "\n",
    "v_0 = np.zeros_like(p_0)"
   ]
  },
  {
   "cell_type": "code",
   "execution_count": null,
   "id": "55746872-a99a-45ba-b079-9141f8b2df91",
   "metadata": {},
   "outputs": [],
   "source": [
    "p_lo = DomainL\n",
    "p_hi = DomainR"
   ]
  },
  {
   "cell_type": "code",
   "execution_count": null,
   "id": "c92da001-08c7-4382-bf48-787fdb54bcbe",
   "metadata": {},
   "outputs": [],
   "source": [
    "p_1, v_1, b_1, phi, phi_x, phi_y,Out, run_time = time_step(GMRES_timed, 1, 0, dx, X, Y, p_0, v_0, p_lo, p_hi, charge, 0.05)"
   ]
  },
  {
   "cell_type": "code",
   "execution_count": null,
   "id": "cd6b4bc8-a2b7-49c7-ae8a-100fffaedc34",
   "metadata": {},
   "outputs": [],
   "source": [
    "subplots(figsize=(11, 11))\n",
    "cp = contourf(X, Y, b_1, levels=160, vmin=-60, vmax=60)\n",
    "colorbar(cp)\n",
    "axis(\"off\");"
   ]
  },
  {
   "cell_type": "code",
   "execution_count": null,
   "id": "3f12c580-129e-4906-a7ba-ba542c2677b4",
   "metadata": {},
   "outputs": [],
   "source": [
    "subplots(figsize=(11, 11))\n",
    "cp = contourf(X, Y, phi)\n",
    "colorbar(cp)\n",
    "axis(\"off\");"
   ]
  },
  {
   "cell_type": "code",
   "execution_count": null,
   "id": "1e9b9caf-eecd-417b-8fc3-177089f01c57",
   "metadata": {},
   "outputs": [],
   "source": [
    "Out = GMRES(A, b_1, np.ones_like(phi), e, nmax_iter, restart, True)"
   ]
  },
  {
   "cell_type": "code",
   "execution_count": null,
   "id": "be5b6c87-9c07-4278-81f7-b9298e5dc280",
   "metadata": {},
   "outputs": [],
   "source": [
    "semilogy(resid(A, Out, b_1))"
   ]
  },
  {
   "cell_type": "code",
   "execution_count": null,
   "id": "490dd01d-6f67-4183-9bd0-db6fbb3ff56a",
   "metadata": {
    "tags": []
   },
   "outputs": [],
   "source": [
    "from src_dir import Gauss_pdf_2D, resid, StatusPrinter\n",
    "\n",
    "#Set the numpy seed\n",
    "np.random.seed(0)\n",
    "\n",
    "# Initialize lists that hold time data (time-to-solutuin, trainining time,\n",
    "# MLGMRES time, etc)\n",
    "run_time_ML_list     = []\n",
    "GmresRunTimeOriginal = []\n",
    "SpeedUp              = []\n",
    "trainTime_list       = []\n",
    "\n",
    "# Set debug mode (prints more information to screen)\n",
    "debug = True\n",
    "\n",
    "NonML_Err_List      = []\n",
    "NonML_Err_List_Full = []\n",
    "\n",
    "# Initial condition and initial time\n",
    "t = dt\n",
    "\n",
    "# Index of  Poisson problems solved\n",
    "for ProbIdx in range(n_steps):\n",
    "\n",
    "    # First GMRES call (solve up to e1 tolerance) with ML wrapper\n",
    "    trainer.ProbCount = ProbIdx  # TODO: This should probably be automatically incremented\n",
    "    p_1, v_1, b_1, phi, phi_x, phi_y, Out, run_time1_ML = time_step(\n",
    "        MLGMRES, 1, dt, dx, X, Y, p_0, v_0, p_lo, p_hi, charge, 0.05\n",
    "    )\n",
    "    # Out, run_time1_ML = MLGMRES(A, b, x0, e, nmax_iter, restart, debug)\n",
    "\n",
    "    # Collect ML assisted Run-times\n",
    "    run_time_ML_list.append(run_time1_ML)\n",
    "    if len(trainer.trainTime) > 0:\n",
    "        trainTime_list.append(trainer.trainTime[-1]) # TODO: this second list is not needed\n",
    "    \n",
    "    # Direct GMRES call up to e1 tolerance\n",
    "    _, _, _, _, _, _, NonML_Out1, run_time1 = time_step(\n",
    "        GMRES_timed, 1, 0, dx, X, Y, p_0, v_0, p_lo, p_hi, charge, 0.05\n",
    "    )\n",
    "    # NonML_Out1, run_time1 = GMRES_timed(A, b, x0, e, nmax_iter, restart, debug)  \n",
    "    NonML_Err = resid(A, NonML_Out1, b_1)\n",
    "    NonML_Err_List_Full.append(NonML_Err)\n",
    "    NonML_Err_List.append(NonML_Err[3])\n",
    "    ## Collect  direct GMRES timeHeatSource\n",
    "    GmresRunTimeOriginal.append(run_time1)\n",
    "\n",
    "    ## Ratio of run-timesHeatSource\n",
    "    SpeedUp.append(run_time1/trainer.ML_GMRES_Time_list[-1])\n",
    "\n",
    "    # Update user on status\n",
    "    StatusPrinter().update_simulation(SpeedUp[-1], ProbIdx)\n",
    "\n",
    "    # Next time step\n",
    "    t   = t + dt\n",
    "    p_0 = p_1\n",
    "    v_0 = v_1\n",
    "\n",
    "StatusPrinter().finalize()\n",
    "\n",
    "\n",
    "MLGMRES_GMRES_ONLY = sum(trainer.ML_GMRES_Time_list)\n",
    "run_time           = sum(GmresRunTimeOriginal)\n",
    "run_time_ML        = sum(run_time_ML_list)\n",
    "trainTime_total    = sum(trainTime_list)\n",
    "\n",
    "print(\"Runtime of Non-decorated version is: \",     run_time)\n",
    "print(\"Runtime of MLGMRES decorator is: \",         run_time_ML)\n",
    "print(\"Runtime of MLGMRES (only GMRES time) is: \", MLGMRES_GMRES_ONLY)\n",
    "print(\"Runtime of training (backprop) is: \",       trainTime_total)"
   ]
  },
  {
   "cell_type": "code",
   "execution_count": null,
   "id": "306e78c4-9c36-484a-bde8-34fd7d6e3565",
   "metadata": {},
   "outputs": [],
   "source": [
    "from src_dir import moving_average\n",
    "\n",
    "# Compute moving average of GMRES and MLGMRES error\n",
    "AVG   = np.zeros((n_steps, 1))\n",
    "count = np.arange(0, n_steps)\n",
    "\n",
    "Err_Array = np.asarray(NonML_Err_List)\n",
    "count     = np.arange(0, n_steps)\n",
    "for j in range(0, n_steps):\n",
    "    AVG[j] = moving_average(np.asarray(Err_Array[:j]), j)\n",
    "\n",
    "Err_Array_ML = np.asarray(trainer.Err_list)\n",
    "AVGML        = np.zeros((n_steps, 1))\n",
    "for j in range(0, n_steps):\n",
    "    AVGML[j] = moving_average(np.asarray(Err_Array_ML[:j]), j)    \n",
    "\n",
    "# Compute moving average of GMRES and MLGMRES run-times\n",
    "GmresRunTimeOriginal_AVG = np.zeros((n_steps, 1))\n",
    "ML_GMRES_Time_AVG        = np.zeros((n_steps, 1))\n",
    "\n",
    "for j in range(0, n_steps):\n",
    "    GmresRunTimeOriginal_AVG[j] = moving_average(np.asarray(GmresRunTimeOriginal[:j]), j)\n",
    "\n",
    "for j in range(0, n_steps):\n",
    "    ML_GMRES_Time_AVG[j] = moving_average(np.asarray(trainer.ML_GMRES_Time_list[:j]), j)"
   ]
  },
  {
   "cell_type": "code",
   "execution_count": null,
   "id": "000cea81-2e07-482c-be39-13ffaee761ac",
   "metadata": {},
   "outputs": [],
   "source": [
    "# plot(count,Err_Array_ML,'.b',label='MLGMRES error')\n",
    "# plot(count[10:-1],AVGML[10:-1],'k',label='Average MLGMRES error')\n",
    "# plot(count,Err_Array,'.r',label='GMRES error')\n",
    "# plot(count[10:-1],AVG[10:-1],'g',label='Average GMRES error')\n",
    "\n",
    "plot(Err_Array_ML,'.b',label='MLGMRES error')\n",
    "plot(AVGML[10:-1],'k',label='Average MLGMRES error')\n",
    "plot(Err_Array,'.r',label='GMRES error')\n",
    "plot(AVG[10:-1],'g',label='Average GMRES error')\n",
    "\n",
    "title('GMRES Error')\n",
    "xlabel('$i$')\n",
    "ylabel('$||r_2||_2$')\n",
    "legend(loc='best')\n",
    "yscale(\"log\")\n",
    "# pp.savefig('AdvectDiff_Error.png')"
   ]
  },
  {
   "cell_type": "code",
   "execution_count": null,
   "id": "b7deb5d0-4ded-4038-8dfd-ddd0c1bd49c2",
   "metadata": {},
   "outputs": [],
   "source": [
    "# plot(trainer.ML_GMRES_Time_list,'.b',label='MLGMRES')\n",
    "# plot(GmresRunTimeOriginal,'.r', label='GMRES')\n",
    "# plot(count[20:-1],GmresRunTimeOriginal_AVG[20:-1],'g', label='GMRES Average')\n",
    "# plot(count[20:-1],ML_GMRES_Time_AVG[20:-1],'k', label='MLGMRES Average')\n",
    "\n",
    "plot(trainer.ML_GMRES_Time_list,'.b',label='MLGMRES')\n",
    "plot(GmresRunTimeOriginal,'.r', label='GMRES')\n",
    "plot(GmresRunTimeOriginal_AVG[20:-1],'g', label='GMRES Average')\n",
    "plot(ML_GMRES_Time_AVG[20:-1],'k', label='MLGMRES Average')\n",
    "\n",
    "ylim(0, 0.4)\n",
    "\n",
    "ylabel('Time (s)')\n",
    "xlabel('i')\n",
    "title('GMRES run time')\n",
    "legend(loc='best')\n",
    "# pp.savefig('AdvectDiff_time.png')"
   ]
  },
  {
   "cell_type": "code",
   "execution_count": null,
   "id": "c1438e43-04f3-4ba7-a69f-27cd0315189b",
   "metadata": {},
   "outputs": [],
   "source": [
    "RHSIndex=-1\n",
    "semilogy(NonML_Err_List_Full[RHSIndex],'r',label='GMRES',linewidth=2)\n",
    "semilogy(trainer.IterErrList[RHSIndex],'b',label='MLGMRES',linewidth=2)\n",
    "legend(loc='best')\n",
    "xlabel('GMRES iterations')\n",
    "ylabel('$||r||_2$')\n",
    "title('Convergence of Algorithim for Final Linear Problem')\n",
    "\n",
    "# savefig('AdvectDiff_EQ_Converg.png')"
   ]
  },
  {
   "cell_type": "code",
   "execution_count": null,
   "id": "57bcc047-8901-4d15-9b24-94e41125eb89",
   "metadata": {},
   "outputs": [],
   "source": [
    "GMRESAVG=GmresRunTimeOriginal_AVG[10:-1]\n",
    "MLGMRESAVG=ML_GMRES_Time_AVG[10:-1]\n",
    "Ratio=np.divide(GMRESAVG,MLGMRESAVG)\n",
    "\n",
    "plot(Ratio,'b')\n",
    "xlabel('i')\n",
    "ylabel('GMRES/MLGMRES')\n",
    "title(\"NN Speed Up \")\n",
    "\n",
    "# savetxt(\"SpeedupAdvectDiff.txt\",Ratio)\n",
    "# savefig('SpeedUp_AdvectDiff.png')"
   ]
  },
  {
   "cell_type": "code",
   "execution_count": null,
   "id": "ef45fd64-2f00-4f2c-bfd7-96ec654729e9",
   "metadata": {},
   "outputs": [],
   "source": []
  },
  {
   "cell_type": "code",
   "execution_count": null,
   "id": "9ae9a0ae-6346-4768-9ac8-9cc34302dd43",
   "metadata": {},
   "outputs": [],
   "source": []
  }
 ],
 "metadata": {
  "kernelspec": {
   "display_name": "Python 3 (ipykernel)",
   "language": "python",
   "name": "python3"
  },
  "language_info": {
   "codemirror_mode": {
    "name": "ipython",
    "version": 3
   },
   "file_extension": ".py",
   "mimetype": "text/x-python",
   "name": "python",
   "nbconvert_exporter": "python",
   "pygments_lexer": "ipython3",
   "version": "3.9.13"
  }
 },
 "nbformat": 4,
 "nbformat_minor": 5
}
