{
 "cells": [
  {
   "cell_type": "code",
   "execution_count": 1,
   "metadata": {},
   "outputs": [],
   "source": [
    "import numpy as np"
   ]
  },
  {
   "cell_type": "code",
   "execution_count": 2,
   "metadata": {},
   "outputs": [],
   "source": [
    "from scipy.linalg         import get_blas_funcs, get_lapack_funcs\n",
    "from scipy.sparse.sputils import upcast"
   ]
  },
  {
   "cell_type": "code",
   "execution_count": 3,
   "metadata": {},
   "outputs": [],
   "source": [
    "def test_blas_funcs(X, b):\n",
    "    # Defining xtype as dtype of the problem, to decide which BLAS functions\n",
    "    # import.\n",
    "    xtype = upcast(X.dtype, b.dtype)\n",
    "\n",
    "    # Get fast access to underlying BLAS routines\n",
    "    # dotc is the conjugate dot, dotu does no conjugation\n",
    "\n",
    "    [lartg] = get_lapack_funcs(['lartg'], [X] )\n",
    "    if np.iscomplexobj(np.zeros((1,), dtype=xtype)):\n",
    "        [axpy, dotu, dotc, scal] =\\\n",
    "            get_blas_funcs(['axpy', 'dotu', 'dotc', 'scal'], [X])\n",
    "    else:\n",
    "        # real type\n",
    "        [axpy, dotu, dotc, scal] =\\\n",
    "            get_blas_funcs(['axpy', 'dot', 'dot', 'scal'], [X])\n",
    "    \n",
    "    return dotc(X, b)"
   ]
  },
  {
   "cell_type": "code",
   "execution_count": 4,
   "metadata": {},
   "outputs": [],
   "source": [
    "X = np.random.rand(10)\n",
    "b = np.random.rand(10)"
   ]
  },
  {
   "cell_type": "code",
   "execution_count": 5,
   "metadata": {},
   "outputs": [
    {
     "data": {
      "text/plain": [
       "2.6447435119711575"
      ]
     },
     "execution_count": 5,
     "metadata": {},
     "output_type": "execute_result"
    }
   ],
   "source": [
    "test_blas_funcs(X, b)"
   ]
  },
  {
   "cell_type": "code",
   "execution_count": 6,
   "metadata": {},
   "outputs": [
    {
     "data": {
      "text/plain": [
       "2.6447435119711575"
      ]
     },
     "execution_count": 6,
     "metadata": {},
     "output_type": "execute_result"
    }
   ],
   "source": [
    "np.dot(X, b)"
   ]
  },
  {
   "cell_type": "code",
   "execution_count": null,
   "metadata": {},
   "outputs": [],
   "source": []
  }
 ],
 "metadata": {
  "kernelspec": {
   "display_name": "Python 3",
   "language": "python",
   "name": "python3"
  },
  "language_info": {
   "codemirror_mode": {
    "name": "ipython",
    "version": 3
   },
   "file_extension": ".py",
   "mimetype": "text/x-python",
   "name": "python",
   "nbconvert_exporter": "python",
   "pygments_lexer": "ipython3",
   "version": "3.7.7"
  }
 },
 "nbformat": 4,
 "nbformat_minor": 4
}
