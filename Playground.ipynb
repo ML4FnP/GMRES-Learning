{
 "cells": [
  {
   "cell_type": "code",
   "execution_count": null,
   "id": "basic-documentation",
   "metadata": {},
   "outputs": [],
   "source": []
  },
  {
   "cell_type": "code",
   "execution_count": 1,
   "id": "lasting-imaging",
   "metadata": {},
   "outputs": [],
   "source": [
    "class ArgMap(object):\n",
    "    \"\"\"\n",
    "    Map storing the indices of input arguments.\n",
    "    \"\"\"\n",
    "\n",
    "    def __init__(self, arg_map=[]):\n",
    "        \"\"\"\n",
    "        ArgMap(arg_map=[\"A\", \"b\", \"x\", ...]) set up argument map where each\n",
    "        argument named in the `arg_map` list corresponds to its index.\n",
    "        \"\"\"\n",
    "        object.__setattr__(self, \"__map\", dict())\n",
    "        for i, am in enumerate(arg_map):\n",
    "            setattr(self, am, i)\n",
    "\n",
    "\n",
    "    def __getattr__(self, attr):\n",
    "        return self.vmap()[attr]\n",
    "\n",
    "\n",
    "    def __setattr__(self, attr, val):\n",
    "        self.vmap()[attr] = val\n",
    "\n",
    "\n",
    "    def __hasattr__(self, attr):\n",
    "        return attr in self.vmap()\n",
    "\n",
    "\n",
    "    def vmap(self):\n",
    "        return object.__getattribute__(self, \"__map\")"
   ]
  },
  {
   "cell_type": "code",
   "execution_count": 2,
   "id": "ruled-indicator",
   "metadata": {},
   "outputs": [],
   "source": [
    "am = ArgMap()"
   ]
  },
  {
   "cell_type": "code",
   "execution_count": 3,
   "id": "multiple-rogers",
   "metadata": {},
   "outputs": [],
   "source": [
    "am.A = 1"
   ]
  },
  {
   "cell_type": "code",
   "execution_count": 4,
   "id": "cleared-neighbor",
   "metadata": {},
   "outputs": [
    {
     "data": {
      "text/plain": [
       "1"
      ]
     },
     "execution_count": 4,
     "metadata": {},
     "output_type": "execute_result"
    }
   ],
   "source": [
    "am.A"
   ]
  },
  {
   "cell_type": "code",
   "execution_count": 5,
   "id": "considerable-avatar",
   "metadata": {},
   "outputs": [
    {
     "ename": "KeyError",
     "evalue": "'B'",
     "output_type": "error",
     "traceback": [
      "\u001b[0;31m---------------------------------------------------------------------------\u001b[0m",
      "\u001b[0;31mKeyError\u001b[0m                                  Traceback (most recent call last)",
      "\u001b[0;32m<ipython-input-5-612166c71589>\u001b[0m in \u001b[0;36m<module>\u001b[0;34m\u001b[0m\n\u001b[0;32m----> 1\u001b[0;31m \u001b[0mam\u001b[0m\u001b[0;34m.\u001b[0m\u001b[0mB\u001b[0m\u001b[0;34m\u001b[0m\u001b[0;34m\u001b[0m\u001b[0m\n\u001b[0m",
      "\u001b[0;32m<ipython-input-1-aee08b30c9c2>\u001b[0m in \u001b[0;36m__getattr__\u001b[0;34m(self, attr)\u001b[0m\n\u001b[1;32m     15\u001b[0m \u001b[0;34m\u001b[0m\u001b[0m\n\u001b[1;32m     16\u001b[0m     \u001b[0;32mdef\u001b[0m \u001b[0m__getattr__\u001b[0m\u001b[0;34m(\u001b[0m\u001b[0mself\u001b[0m\u001b[0;34m,\u001b[0m \u001b[0mattr\u001b[0m\u001b[0;34m)\u001b[0m\u001b[0;34m:\u001b[0m\u001b[0;34m\u001b[0m\u001b[0;34m\u001b[0m\u001b[0m\n\u001b[0;32m---> 17\u001b[0;31m         \u001b[0;32mreturn\u001b[0m \u001b[0mself\u001b[0m\u001b[0;34m.\u001b[0m\u001b[0mvmap\u001b[0m\u001b[0;34m(\u001b[0m\u001b[0;34m)\u001b[0m\u001b[0;34m[\u001b[0m\u001b[0mattr\u001b[0m\u001b[0;34m]\u001b[0m\u001b[0;34m\u001b[0m\u001b[0;34m\u001b[0m\u001b[0m\n\u001b[0m\u001b[1;32m     18\u001b[0m \u001b[0;34m\u001b[0m\u001b[0m\n\u001b[1;32m     19\u001b[0m \u001b[0;34m\u001b[0m\u001b[0m\n",
      "\u001b[0;31mKeyError\u001b[0m: 'B'"
     ]
    }
   ],
   "source": [
    "am.B"
   ]
  },
  {
   "cell_type": "code",
   "execution_count": 6,
   "id": "appreciated-puppy",
   "metadata": {},
   "outputs": [],
   "source": [
    "am = ArgMap([\"a\", \"B\"])"
   ]
  },
  {
   "cell_type": "code",
   "execution_count": 7,
   "id": "integral-weather",
   "metadata": {},
   "outputs": [
    {
     "data": {
      "text/plain": [
       "0"
      ]
     },
     "execution_count": 7,
     "metadata": {},
     "output_type": "execute_result"
    }
   ],
   "source": [
    "am.a"
   ]
  },
  {
   "cell_type": "code",
   "execution_count": 8,
   "id": "dried-medline",
   "metadata": {},
   "outputs": [
    {
     "data": {
      "text/plain": [
       "1"
      ]
     },
     "execution_count": 8,
     "metadata": {},
     "output_type": "execute_result"
    }
   ],
   "source": [
    "am.B"
   ]
  },
  {
   "cell_type": "code",
   "execution_count": null,
   "id": "related-scratch",
   "metadata": {},
   "outputs": [],
   "source": []
  },
  {
   "cell_type": "code",
   "execution_count": 9,
   "id": "beneficial-garage",
   "metadata": {},
   "outputs": [],
   "source": [
    "from inspect import signature, getfullargspec"
   ]
  },
  {
   "cell_type": "code",
   "execution_count": 10,
   "id": "twelve-first",
   "metadata": {},
   "outputs": [],
   "source": [
    "def f(x, y, a=1):\n",
    "    return a"
   ]
  },
  {
   "cell_type": "code",
   "execution_count": 11,
   "id": "protected-africa",
   "metadata": {},
   "outputs": [
    {
     "data": {
      "text/plain": [
       "FullArgSpec(args=['x', 'y', 'a'], varargs=None, varkw=None, defaults=(1,), kwonlyargs=[], kwonlydefaults=None, annotations={})"
      ]
     },
     "execution_count": 11,
     "metadata": {},
     "output_type": "execute_result"
    }
   ],
   "source": [
    "argspec = getfullargspec(f)\n",
    "argspec"
   ]
  },
  {
   "cell_type": "code",
   "execution_count": 12,
   "id": "operating-audit",
   "metadata": {},
   "outputs": [],
   "source": [
    "def g(x, y, *args, a=1, **kwargs):\n",
    "    return a+y"
   ]
  },
  {
   "cell_type": "code",
   "execution_count": 13,
   "id": "freelance-little",
   "metadata": {},
   "outputs": [
    {
     "data": {
      "text/plain": [
       "FullArgSpec(args=['x', 'y'], varargs='args', varkw='kwargs', defaults=None, kwonlyargs=['a'], kwonlydefaults={'a': 1}, annotations={})"
      ]
     },
     "execution_count": 13,
     "metadata": {},
     "output_type": "execute_result"
    }
   ],
   "source": [
    "argspec = getfullargspec(g)\n",
    "argspec"
   ]
  },
  {
   "cell_type": "code",
   "execution_count": 14,
   "id": "incomplete-rwanda",
   "metadata": {},
   "outputs": [
    {
     "name": "stdout",
     "output_type": "stream",
     "text": [
      "2 3\n",
      "3 4\n",
      "4 5\n",
      "5 6\n"
     ]
    }
   ],
   "source": [
    "a = [1,2,3,4,5,6]\n",
    "for i in range(2, len(a)):\n",
    "    print(i, a[i])"
   ]
  },
  {
   "cell_type": "code",
   "execution_count": 15,
   "id": "characteristic-success",
   "metadata": {},
   "outputs": [],
   "source": [
    "class ArgsView(object):\n",
    "\n",
    "    def __init__(self, spec, args, kwargs):\n",
    "        self.__spec = spec\n",
    "        self.__args = args\n",
    "        self.__kwargs = kwargs\n",
    "\n",
    "        for i, arg_name in enumerate(self.__spec.args):\n",
    "            setattr(\n",
    "                self,\n",
    "                arg_name,\n",
    "                self.__arg_view(i, arg_name)\n",
    "            )\n",
    "\n",
    "        self._vargs = []\n",
    "        for j in range(i+1, len(self.__args)):\n",
    "            self._vargs.append(\n",
    "                self.__varg_view(j)\n",
    "            )\n",
    "\n",
    "        for arg_name in self.__spec.kwonlyargs:\n",
    "            setattr(\n",
    "                self,\n",
    "                arg_name,\n",
    "                self.__kwoarg_view(arg_name)\n",
    "            )\n",
    "\n",
    "\n",
    "    @property\n",
    "    def _spec(self):\n",
    "        return self.__spec\n",
    "    \n",
    "\n",
    "    def _replace(self, name, data):\n",
    "        setattr(self, name, lambda: data)\n",
    "\n",
    "\n",
    "    def __arg_view(self, arg_idx, arg_name):\n",
    "        if arg_idx < len(self.__args):\n",
    "            return lambda: self.__args[arg_idx]\n",
    "        if arg_name in self.__kwargs:\n",
    "            return lambda: self.__kwargs[arg_name]\n",
    "\n",
    "        defaults_offset = len(self.__spec.args) - len(self.__spec.defaults)\n",
    "        return lambda: self.__spec.defaults[arg_idx - defaults_offset]\n",
    "\n",
    "\n",
    "    def __kwoarg_view(self, arg_name):\n",
    "        if arg_name in self.__kwargs:\n",
    "            return lambda: self.__kwargs[arg_name]\n",
    "\n",
    "        return lambda: self.__spec.kwonlydefaults[arg_name]\n",
    "\n",
    "\n",
    "    def __varg_view(self, idx):\n",
    "        return lambda: self.__args[idx]\n",
    "\n",
    "\n",
    "    def __str__(self):\n",
    "        return str(self.__dict__.keys())\n",
    "\n",
    "\n",
    "    def __repr__(self):\n",
    "        return repr(self.__dict__.keys())"
   ]
  },
  {
   "cell_type": "code",
   "execution_count": 16,
   "id": "referenced-excitement",
   "metadata": {},
   "outputs": [],
   "source": [
    "def yoink(func):\n",
    "    spec = getfullargspec(func)\n",
    "    def wrapper(*args, **kwargs):\n",
    "        av = ArgsView(spec, args, kwargs)\n",
    "        return av\n",
    "    return wrapper"
   ]
  },
  {
   "cell_type": "code",
   "execution_count": 17,
   "id": "colonial-driving",
   "metadata": {},
   "outputs": [],
   "source": [
    "h = yoink(f)"
   ]
  },
  {
   "cell_type": "code",
   "execution_count": 18,
   "id": "extended-sauce",
   "metadata": {},
   "outputs": [
    {
     "data": {
      "text/plain": [
       "dict_keys(['_ArgsView__spec', '_ArgsView__args', '_ArgsView__kwargs', 'x', 'y', 'a', '_vargs'])"
      ]
     },
     "execution_count": 18,
     "metadata": {},
     "output_type": "execute_result"
    }
   ],
   "source": [
    "av = h(1,2)\n",
    "av"
   ]
  },
  {
   "cell_type": "code",
   "execution_count": 19,
   "id": "electrical-threshold",
   "metadata": {},
   "outputs": [
    {
     "data": {
      "text/plain": [
       "1"
      ]
     },
     "execution_count": 19,
     "metadata": {},
     "output_type": "execute_result"
    }
   ],
   "source": [
    "av.x()"
   ]
  },
  {
   "cell_type": "code",
   "execution_count": 20,
   "id": "hungarian-overhead",
   "metadata": {},
   "outputs": [
    {
     "data": {
      "text/plain": [
       "2"
      ]
     },
     "execution_count": 20,
     "metadata": {},
     "output_type": "execute_result"
    }
   ],
   "source": [
    "av.y()"
   ]
  },
  {
   "cell_type": "code",
   "execution_count": 21,
   "id": "sixth-detail",
   "metadata": {},
   "outputs": [],
   "source": [
    "li = [1, 2]\n",
    "av._replace('x', li)"
   ]
  },
  {
   "cell_type": "code",
   "execution_count": 22,
   "id": "allied-restaurant",
   "metadata": {},
   "outputs": [
    {
     "data": {
      "text/plain": [
       "[1, 2]"
      ]
     },
     "execution_count": 22,
     "metadata": {},
     "output_type": "execute_result"
    }
   ],
   "source": [
    "av.x()"
   ]
  },
  {
   "cell_type": "code",
   "execution_count": 23,
   "id": "clinical-pontiac",
   "metadata": {},
   "outputs": [],
   "source": [
    "li[1] = 3"
   ]
  },
  {
   "cell_type": "code",
   "execution_count": 24,
   "id": "engaging-judge",
   "metadata": {},
   "outputs": [
    {
     "data": {
      "text/plain": [
       "[1, 3]"
      ]
     },
     "execution_count": 24,
     "metadata": {},
     "output_type": "execute_result"
    }
   ],
   "source": [
    "av.x()"
   ]
  },
  {
   "cell_type": "code",
   "execution_count": 25,
   "id": "unnecessary-account",
   "metadata": {},
   "outputs": [],
   "source": [
    "from copy import deepcopy\n",
    "av2 = deepcopy(av)"
   ]
  },
  {
   "cell_type": "code",
   "execution_count": 26,
   "id": "quiet-tender",
   "metadata": {},
   "outputs": [
    {
     "data": {
      "text/plain": [
       "dict_keys(['_ArgsView__spec', '_ArgsView__args', '_ArgsView__kwargs', 'x', 'y', 'a', '_vargs'])"
      ]
     },
     "execution_count": 26,
     "metadata": {},
     "output_type": "execute_result"
    }
   ],
   "source": [
    "av2"
   ]
  },
  {
   "cell_type": "code",
   "execution_count": 27,
   "id": "chemical-arizona",
   "metadata": {},
   "outputs": [],
   "source": [
    "av2._replace('y', 100000)"
   ]
  },
  {
   "cell_type": "code",
   "execution_count": 28,
   "id": "competent-advice",
   "metadata": {},
   "outputs": [
    {
     "data": {
      "text/plain": [
       "100000"
      ]
     },
     "execution_count": 28,
     "metadata": {},
     "output_type": "execute_result"
    }
   ],
   "source": [
    "av2.y()"
   ]
  },
  {
   "cell_type": "code",
   "execution_count": 29,
   "id": "activated-report",
   "metadata": {},
   "outputs": [
    {
     "data": {
      "text/plain": [
       "2"
      ]
     },
     "execution_count": 29,
     "metadata": {},
     "output_type": "execute_result"
    }
   ],
   "source": [
    "av.y()"
   ]
  },
  {
   "cell_type": "code",
   "execution_count": 30,
   "id": "finnish-blackjack",
   "metadata": {},
   "outputs": [],
   "source": [
    "h = yoink(g)"
   ]
  },
  {
   "cell_type": "code",
   "execution_count": 31,
   "id": "junior-press",
   "metadata": {},
   "outputs": [
    {
     "data": {
      "text/plain": [
       "dict_keys(['_ArgsView__spec', '_ArgsView__args', '_ArgsView__kwargs', 'x', 'y', '_vargs', 'a'])"
      ]
     },
     "execution_count": 31,
     "metadata": {},
     "output_type": "execute_result"
    }
   ],
   "source": [
    "av = h(1,2,3,4,5,a=6)\n",
    "av"
   ]
  },
  {
   "cell_type": "code",
   "execution_count": 32,
   "id": "sacred-village",
   "metadata": {},
   "outputs": [
    {
     "data": {
      "text/plain": [
       "6"
      ]
     },
     "execution_count": 32,
     "metadata": {},
     "output_type": "execute_result"
    }
   ],
   "source": [
    "av.a()"
   ]
  },
  {
   "cell_type": "code",
   "execution_count": 33,
   "id": "solid-bernard",
   "metadata": {},
   "outputs": [
    {
     "data": {
      "text/plain": [
       "6"
      ]
     },
     "execution_count": 33,
     "metadata": {},
     "output_type": "execute_result"
    }
   ],
   "source": [
    "getattr(av, \"a\")()"
   ]
  },
  {
   "cell_type": "code",
   "execution_count": 34,
   "id": "liked-acting",
   "metadata": {},
   "outputs": [
    {
     "data": {
      "text/plain": [
       "1"
      ]
     },
     "execution_count": 34,
     "metadata": {},
     "output_type": "execute_result"
    }
   ],
   "source": [
    "av.x()"
   ]
  },
  {
   "cell_type": "code",
   "execution_count": 35,
   "id": "going-nothing",
   "metadata": {},
   "outputs": [
    {
     "data": {
      "text/plain": [
       "2"
      ]
     },
     "execution_count": 35,
     "metadata": {},
     "output_type": "execute_result"
    }
   ],
   "source": [
    "av.y()"
   ]
  },
  {
   "cell_type": "code",
   "execution_count": 36,
   "id": "bronze-binding",
   "metadata": {},
   "outputs": [
    {
     "data": {
      "text/plain": [
       "[<function __main__.ArgsView.__varg_view.<locals>.<lambda>()>,\n",
       " <function __main__.ArgsView.__varg_view.<locals>.<lambda>()>,\n",
       " <function __main__.ArgsView.__varg_view.<locals>.<lambda>()>]"
      ]
     },
     "execution_count": 36,
     "metadata": {},
     "output_type": "execute_result"
    }
   ],
   "source": [
    "av._vargs"
   ]
  },
  {
   "cell_type": "code",
   "execution_count": 37,
   "id": "thousand-broadway",
   "metadata": {},
   "outputs": [
    {
     "data": {
      "text/plain": [
       "3"
      ]
     },
     "execution_count": 37,
     "metadata": {},
     "output_type": "execute_result"
    }
   ],
   "source": [
    "av._vargs[0]()"
   ]
  },
  {
   "cell_type": "code",
   "execution_count": 38,
   "id": "disabled-colorado",
   "metadata": {},
   "outputs": [
    {
     "data": {
      "text/plain": [
       "['a']"
      ]
     },
     "execution_count": 38,
     "metadata": {},
     "output_type": "execute_result"
    }
   ],
   "source": [
    "av._spec.kwonlyargs"
   ]
  },
  {
   "cell_type": "code",
   "execution_count": 39,
   "id": "recreational-entertainment",
   "metadata": {},
   "outputs": [],
   "source": [
    "arg_list = []\n",
    "for arg in av._spec.args:\n",
    "    arg_list.append(\n",
    "        getattr(av, arg)()\n",
    "    )\n",
    "\n",
    "for argv in av._vargs:\n",
    "    arg_list.append(\n",
    "        argv()\n",
    "    )\n",
    "\n",
    "kwargs = dict()\n",
    "for kw in av._spec.kwonlyargs:\n",
    "    kwargs[kw] = getattr(av, kw)()"
   ]
  },
  {
   "cell_type": "code",
   "execution_count": 40,
   "id": "indirect-collar",
   "metadata": {},
   "outputs": [
    {
     "data": {
      "text/plain": [
       "[1, 2, 3, 4, 5]"
      ]
     },
     "execution_count": 40,
     "metadata": {},
     "output_type": "execute_result"
    }
   ],
   "source": [
    "arg_list"
   ]
  },
  {
   "cell_type": "code",
   "execution_count": 41,
   "id": "framed-handling",
   "metadata": {},
   "outputs": [
    {
     "data": {
      "text/plain": [
       "{'a': 6}"
      ]
     },
     "execution_count": 41,
     "metadata": {},
     "output_type": "execute_result"
    }
   ],
   "source": [
    "kwargs"
   ]
  },
  {
   "cell_type": "code",
   "execution_count": 42,
   "id": "physical-encoding",
   "metadata": {},
   "outputs": [
    {
     "data": {
      "text/plain": [
       "8"
      ]
     },
     "execution_count": 42,
     "metadata": {},
     "output_type": "execute_result"
    }
   ],
   "source": [
    "g(*arg_list, **kwargs)"
   ]
  },
  {
   "cell_type": "code",
   "execution_count": 43,
   "id": "covered-panama",
   "metadata": {},
   "outputs": [],
   "source": [
    "def f(x):\n",
    "    return lambda: x[1]"
   ]
  },
  {
   "cell_type": "code",
   "execution_count": 44,
   "id": "biblical-arrow",
   "metadata": {},
   "outputs": [],
   "source": [
    "z = [1,2,3]"
   ]
  },
  {
   "cell_type": "code",
   "execution_count": 45,
   "id": "reported-benjamin",
   "metadata": {},
   "outputs": [],
   "source": [
    "b=f(z)"
   ]
  },
  {
   "cell_type": "code",
   "execution_count": 46,
   "id": "crucial-hudson",
   "metadata": {},
   "outputs": [
    {
     "data": {
      "text/plain": [
       "2"
      ]
     },
     "execution_count": 46,
     "metadata": {},
     "output_type": "execute_result"
    }
   ],
   "source": [
    "b()"
   ]
  },
  {
   "cell_type": "code",
   "execution_count": 47,
   "id": "amended-biodiversity",
   "metadata": {},
   "outputs": [],
   "source": [
    "z[1]=100"
   ]
  },
  {
   "cell_type": "code",
   "execution_count": 48,
   "id": "transparent-clone",
   "metadata": {},
   "outputs": [
    {
     "data": {
      "text/plain": [
       "100"
      ]
     },
     "execution_count": 48,
     "metadata": {},
     "output_type": "execute_result"
    }
   ],
   "source": [
    "b()"
   ]
  },
  {
   "cell_type": "code",
   "execution_count": null,
   "id": "spatial-organ",
   "metadata": {},
   "outputs": [],
   "source": []
  },
  {
   "cell_type": "code",
   "execution_count": null,
   "id": "dominican-picking",
   "metadata": {},
   "outputs": [],
   "source": []
  },
  {
   "cell_type": "code",
   "execution_count": null,
   "id": "crazy-store",
   "metadata": {},
   "outputs": [],
   "source": []
  },
  {
   "cell_type": "code",
   "execution_count": null,
   "id": "sixth-exploration",
   "metadata": {},
   "outputs": [],
   "source": []
  },
  {
   "cell_type": "code",
   "execution_count": null,
   "id": "graduate-reason",
   "metadata": {},
   "outputs": [],
   "source": []
  }
 ],
 "metadata": {
  "kernelspec": {
   "display_name": "Python 3",
   "language": "python",
   "name": "python3"
  },
  "language_info": {
   "codemirror_mode": {
    "name": "ipython",
    "version": 3
   },
   "file_extension": ".py",
   "mimetype": "text/x-python",
   "name": "python",
   "nbconvert_exporter": "python",
   "pygments_lexer": "ipython3",
   "version": "3.8.9"
  }
 },
 "nbformat": 4,
 "nbformat_minor": 5
}
