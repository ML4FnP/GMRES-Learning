{
 "cells": [
  {
   "cell_type": "code",
   "execution_count": 21,
   "metadata": {},
   "outputs": [
    {
     "output_type": "stream",
     "name": "stderr",
     "text": "2020-05-05 16:39:07 [INFO] <ipython-input-21-22fe0692d5aa> 12 - Test!\n2020-05-05 16:39:07 [INFO] <ipython-input-21-22fe0692d5aa> 12 - Test!\n2020-05-05 16:39:07 [INFO] <ipython-input-21-22fe0692d5aa> 12 - Test!\n2020-05-05 16:39:07 [INFO] <ipython-input-21-22fe0692d5aa> 12 - Test!\n2020-05-05 16:39:07 [INFO] <ipython-input-21-22fe0692d5aa> 12 - Test!\n"
    }
   ],
   "source": [
    "import os\n",
    "from datetime import datetime\n",
    "# Make logging folder named according to current time\n",
    "start_time_str = datetime.today().strftime('%d_%m_%Y__%H_%M_%S')\n",
    "log_dir = './logs/'f\"log_{start_time_str}\"\n",
    "os.makedirs(log_dir)\n",
    "\n",
    "# Initialize logger that adds to text file in current logging folder\n",
    "from logging_utils.initialize_logger import init_logger,get_logger\n",
    "init_logger(save_dir=log_dir)\n",
    "logger = get_logger()\n",
    "logger.info(\"Test!\")"
   ]
  },
  {
   "cell_type": "code",
   "execution_count": 22,
   "metadata": {},
   "outputs": [],
   "source": [
    "import numpy as np\n",
    "A = np.matrix(\n",
    "    [[1, 1], \n",
    "     [3, -4]]\n",
    ")\n",
    "e = 0\n",
    "nmax_iter = 5\n",
    "retrain_freq=2"
   ]
  },
  {
   "cell_type": "code",
   "execution_count": 23,
   "metadata": {},
   "outputs": [],
   "source": [
    "# Set up parameter class\n",
    "class MyParamsClass():\n",
    "    def __init__(self, A,nmax_iter,retrain_freq,e):\n",
    "        self.A = A.tolist()\n",
    "        self.nmax_iter = nmax_iter\n",
    "        self.retrain_freq=retrain_freq\n",
    "        self.e=e"
   ]
  },
  {
   "cell_type": "code",
   "execution_count": 24,
   "metadata": {},
   "outputs": [],
   "source": [
    "import os\n",
    "import json\n",
    "\n",
    "params = MyParamsClass(A,nmax_iter,retrain_freq,e)\n",
    "sorted_params_dict = {k: params.__dict__[k] for k \n",
    "                      in sorted(params.__dict__.keys())}\n",
    "\n",
    "params_filepath = log_dir+'/params.json'\n",
    "json.dump(sorted_params_dict, open(params_filepath, 'w'), indent=4)"
   ]
  },
  {
   "cell_type": "code",
   "execution_count": null,
   "metadata": {},
   "outputs": [],
   "source": []
  }
 ],
 "metadata": {
  "language_info": {
   "codemirror_mode": {
    "name": "ipython",
    "version": 3
   },
   "file_extension": ".py",
   "mimetype": "text/x-python",
   "name": "python",
   "nbconvert_exporter": "python",
   "pygments_lexer": "ipython3",
   "version": "3.7.4-final"
  },
  "orig_nbformat": 2,
  "kernelspec": {
   "name": "python37464bitbasecondaeb5d8bb63cbe4b178f51af7321abdce1",
   "display_name": "Python 3.7.4 64-bit ('base': conda)"
  }
 },
 "nbformat": 4,
 "nbformat_minor": 2
}