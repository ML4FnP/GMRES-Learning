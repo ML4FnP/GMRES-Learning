{
 "cells": [
  {
   "cell_type": "code",
   "execution_count": null,
   "metadata": {},
   "outputs": [],
   "source": [
    "import os\n",
    "from datetime import datetime\n",
    "# Make logging folder named according to current time\n",
    "start_time_str = datetime.today().strftime('%d_%m_%Y__%H_%M_%S')\n",
    "log_dir = './logs/'f\"log_{start_time_str}\"\n",
    "os.makedirs(log_dir)\n",
    "\n",
    "# Initialize logger that adds to text file in current logging folder\n",
    "from logging_utils import *\n",
    "\n",
    "init_logger(save_dir=log_dir)\n",
    "logger = get_logger()\n",
    "\n",
    "\n"
   ]
  },
  {
   "cell_type": "code",
   "execution_count": null,
   "metadata": {},
   "outputs": [],
   "source": [
    "import pathlib\n",
    "import subprocess\n",
    "# Get the absolute path to your repository, \n",
    "# no matter where you are running this code from\n",
    "\n",
    "repo_path = os.getcwd() \n",
    "\n",
    "\n",
    "git_branch = subprocess.check_output(\n",
    "    [\"git\", \"-C\", repo_path, \"rev-parse\", \"--abbrev-ref\", \"HEAD\"]).strip().decode('UTF-8')\n",
    "\n",
    "git_commit_short_hash = subprocess.check_output(\n",
    "    [\"git\", \"-C\", repo_path, \"describe\", \"--always\"]).strip().decode('UTF-8')\n"
   ]
  },
  {
   "cell_type": "code",
   "execution_count": null,
   "metadata": {},
   "outputs": [],
   "source": [
    "import numpy as np\n",
    "\n",
    "dim=200\n",
    "x0=np.squeeze(np.zeros((dim,1)))\n",
    "x0Type='Zero Vector'\n",
    "\n",
    "FD_StencilMat=np.zeros((dim,dim))\n",
    "b = np.ones(dim-1)\n",
    "c = -2*np.ones(dim)\n",
    "np.fill_diagonal(FD_StencilMat[1:], b)\n",
    "np.fill_diagonal(FD_StencilMat[:,1:], b)\n",
    "np.fill_diagonal(FD_StencilMat, c)\n",
    "A=FD_StencilMat\n",
    "AType='1D Laplacian'\n",
    "\n",
    "\n",
    "retrain_freq=10\n",
    "e1 = 1e-8\n",
    "e2 = 1e-10\n",
    "nmax_iter = 50\n",
    "restart   = 64\n",
    "\n",
    "sigma=0.02\n",
    "DomainL=-5.0\n",
    "DomainR=5.0\n",
    "\n",
    "\n",
    "\n",
    "n_steps =500\n",
    "InputDim=dim\n",
    "HiddenDim=dim\n",
    "HiddenDim2=dim\n",
    "OutputDim=dim"
   ]
  },
  {
   "cell_type": "code",
   "execution_count": null,
   "metadata": {},
   "outputs": [],
   "source": [
    "# Initial log message\n",
    "logger.info(\"Reverting back to single layer after trying various architecftures(including 1d conv). It is difficult to asses effectivness of different approaches without using GPU(training times quickly become prohibitive in serial). I will be switching to using  the GPU.\")\n",
    "\n",
    "#  The source is a narrow gaussian that depends on the integer 'time' in a nonlinear way. The gaussian is on the interval [-5,5], and constrained to move on [-4,4]. \")"
   ]
  },
  {
   "cell_type": "code",
   "execution_count": null,
   "metadata": {},
   "outputs": [],
   "source": [
    "# Set up parameter class\n",
    "class MyParamsClass():\n",
    "    def __init__(self, AType,dim,nmax_iter,restart,retrain_freq,e1,e2,x0Type,n_steps,InputDim,HiddenDim,HiddenDim2,OutputDim,sigma,DomainL,DomainR,git_branch,git_commit_short_hash):\n",
    "        self.AType = AType\n",
    "        self.dim = dim\n",
    "        self.nmax_iter = nmax_iter\n",
    "        self.restart = restart\n",
    "        self.n_steps =n_steps\n",
    "        self.retrain_freq=retrain_freq\n",
    "        self.e1=e1\n",
    "        self.e2=e2\n",
    "        self.x0Type=x0Type\n",
    "        self.InputDim=InputDim\n",
    "        self.HiddenDim=HiddenDim\n",
    "        self.HiddenDim2=HiddenDim2\n",
    "        self.OutputDim=OutputDim\n",
    "        self.sigma=sigma\n",
    "        self.DomainL=DomainL\n",
    "        self.DomainR=DomainR\n",
    "        self.git_branch=git_branch\n",
    "        self.git_commit_short_hash=git_commit_short_hash"
   ]
  },
  {
   "cell_type": "code",
   "execution_count": null,
   "metadata": {},
   "outputs": [],
   "source": [
    "import os\n",
    "import json\n",
    "\n",
    "params = MyParamsClass(AType,dim,nmax_iter,restart,retrain_freq,e1,e2,x0Type,n_steps,InputDim,HiddenDim,HiddenDim2,OutputDim,sigma,DomainL,DomainR,git_branch,git_commit_short_hash)\n",
    "sorted_params_dict = {k: params.__dict__[k] for k \n",
    "                      in sorted(params.__dict__.keys())}\n",
    "\n",
    "params_filepath = log_dir+'/params.json'\n",
    "json.dump(sorted_params_dict, open(params_filepath, 'w'), indent=4)"
   ]
  },
  {
   "cell_type": "code",
   "execution_count": null,
   "metadata": {},
   "outputs": [],
   "source": [
    "from src_dir import *"
   ]
  },
  {
   "cell_type": "code",
   "execution_count": null,
   "metadata": {},
   "outputs": [],
   "source": [
    "# @nn_preconditioner(retrain_freq=retrain_freq, debug=True,InputDim=InputDim,HiddenDim=HiddenDim,HiddenDim2=HiddenDim2,OutputDim=OutputDim)\n",
    "# def MLGMRES(A, b, x0, e, nmax_iter,IterErr0_sum,IterErr0,ProbCount,Add,restart,debug):\n",
    "#     return GMRES(A, b, x0, e, nmax_iter,restart, debug)"
   ]
  },
  {
   "cell_type": "code",
   "execution_count": null,
   "metadata": {},
   "outputs": [],
   "source": [
    "@timer\n",
    "@nn_preconditioner_timed(retrain_freq=retrain_freq, debug=True,InputDim=InputDim,HiddenDim=HiddenDim,HiddenDim2=HiddenDim2,OutputDim=OutputDim)\n",
    "def MLGMRES(A, b, x0, e, nmax_iter,Err_list,IterErr0_AVG,ProbCount,restart,debug,refine):\n",
    "    return GMRES(A, b, x0, e, nmax_iter,restart, debug)\n",
    "    "
   ]
  },
  {
   "cell_type": "code",
   "execution_count": null,
   "metadata": {},
   "outputs": [],
   "source": [
    "@timer\n",
    "def GMRES_timed(A, b, x0, e, nmax_iter,restart,debug):\n",
    "    return GMRES(A, b, x0, e, nmax_iter,restart, debug)"
   ]
  },
  {
   "cell_type": "code",
   "execution_count": null,
   "metadata": {
    "tags": [
     "outputPrepend",
     "outputPrepend",
     "outputPrepend",
     "outputPrepend",
     "outputPrepend",
     "outputPrepend",
     "outputPrepend",
     "outputPrepend",
     "outputPrepend",
     "outputPrepend",
     "outputPrepend",
     "outputPrepend",
     "outputPrepend",
     "outputPrepend",
     "outputPrepend",
     "outputPrepend",
     "outputPrepend",
     "outputPrepend"
    ]
   },
   "outputs": [],
   "source": [
    "Err_list=[]\n",
    "IterErr0_AVG=0.0\n",
    "\n",
    "debug=True\n",
    "\n",
    "refine1=False\n",
    "refine2=True\n",
    "\n",
    "run_time=0.0\n",
    "run_time_ML=0.0\n",
    "trainTime_total=0.0\n",
    "forwardTime_Total=0.0\n",
    "run_time_ML_NoAdd=0.0\n",
    "\n",
    "\n",
    "x=np.linspace(DomainL,DomainR,dim)\n",
    "\n",
    "\n",
    "\n",
    "for ProbIdx in range(n_steps):\n",
    "\n",
    "    loc=4.0*np.sin(0.5*ProbIdx*np.abs(np.cos(0.5*ProbIdx)))\n",
    "    b=Gauss_pdf(x,loc,sigma)\n",
    "    b_norm=np.linalg.norm(b)\n",
    "\n",
    "\n",
    "\n",
    "    OutList1,run_time1_ML=MLGMRES(A, b/b_norm, x0, e1, nmax_iter,Err_list,IterErr0_AVG,ProbIdx,restart,debug,refine1)  # normalize b for optimal NN performance.\n",
    "    Out=OutList1[0]\n",
    "    Err_list=OutList1[1]\n",
    "    IterErr0_AVG=OutList1[2]\n",
    "    forwardTime1=OutList1[4]\n",
    "\n",
    "\n",
    "    OutList2,run_time2_ML=MLGMRES(A, b/b_norm, Out[-10], e2, nmax_iter,Err_list,IterErr0_AVG,ProbIdx,restart,debug,refine2)\n",
    "    Out2=OutList2[0]\n",
    "    Err_list=OutList2[1]\n",
    "    IterErr0_AVG=OutList2[2]\n",
    "    trainTime=OutList2[3]\n",
    "    forwardTime2=OutList2[4]\n",
    "\n",
    "    forwardTime_Total=forwardTime1+forwardTime2+forwardTime_Total\n",
    "    trainTime_total=trainTime+trainTime_total\n",
    "    run_time_ML=run_time1_ML+run_time2_ML+run_time_ML\n",
    "\n",
    "\n",
    "\n",
    "\n",
    "    NonML_Out1,run_time1=GMRES_timed(A, b/b_norm, x0, e1, nmax_iter,restart, debug)  # normalize b for optimal NN performance.\n",
    "    NonML_Out2,run_time2=GMRES_timed(A, b/b_norm, NonML_Out1[-10], e2, nmax_iter,restart, debug)  # normalize b for optimal NN performance.\n",
    "    run_time=run_time1+run_time2+run_time\n",
    "\n",
    "    print(ProbIdx)\n",
    "\n",
    "\n",
    "logger.info(\"Runtime of Non-decorated version is:\")\n",
    "logger.info(run_time)\n",
    "\n",
    "logger.info(\"Runtime of MLGMRES decorator is:\")\n",
    "logger.info(run_time_ML)\n",
    "\n",
    "\n",
    "logger.info(\"Runtime of training (backprop) is:\")\n",
    "logger.info(trainTime_total)\n",
    "\n",
    "logger.info(\"Runtime of forward function is:\")\n",
    "logger.info(forwardTime_Total)\n"
   ]
  }
 ],
 "metadata": {
  "language_info": {
   "codemirror_mode": {
    "name": "ipython",
    "version": 3
   },
   "file_extension": ".py",
   "mimetype": "text/x-python",
   "name": "python",
   "nbconvert_exporter": "python",
   "pygments_lexer": "ipython3",
   "version": "3.7.4-final"
  },
  "orig_nbformat": 2,
  "kernelspec": {
   "name": "python37464bitbasecondaeb5d8bb63cbe4b178f51af7321abdce1",
   "display_name": "Python 3.7.4 64-bit ('base': conda)"
  }
 },
 "nbformat": 4,
 "nbformat_minor": 2
}