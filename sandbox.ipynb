{
 "cells": [
  {
   "cell_type": "markdown",
   "metadata": {},
   "source": [
    "# Learning how to Solve a Linear Problem using Neural Networks in PyTorch"
   ]
  },
  {
   "cell_type": "markdown",
   "metadata": {},
   "source": [
    "Import basic data types"
   ]
  },
  {
   "cell_type": "code",
   "execution_count": 1,
   "metadata": {
    "collapsed": false,
    "inputHidden": false,
    "jupyter": {
     "outputs_hidden": false
    },
    "outputHidden": false
   },
   "outputs": [],
   "source": [
    "import pandas as pd\n",
    "import numpy  as np"
   ]
  },
  {
   "cell_type": "markdown",
   "metadata": {},
   "source": [
    "By building our own GMRES function, we can take it appart and play with it's insides"
   ]
  },
  {
   "cell_type": "code",
   "execution_count": 2,
   "metadata": {},
   "outputs": [],
   "source": [
    "from src_dir.gmres         import GMRES, matmul_a, mat_to_a\n",
    "from src_dir.nn_collection import TwoLayerNet\n",
    "from src_dir.nn_predictor  import nn_preconditioner"
   ]
  },
  {
   "cell_type": "markdown",
   "metadata": {},
   "source": [
    "Pyplot should display images inline"
   ]
  },
  {
   "cell_type": "code",
   "execution_count": 3,
   "metadata": {
    "collapsed": false,
    "inputHidden": false,
    "jupyter": {
     "outputs_hidden": false
    },
    "outputHidden": false
   },
   "outputs": [
    {
     "output_type": "stream",
     "name": "stdout",
     "text": "Populating the interactive namespace from numpy and matplotlib\n"
    }
   ],
   "source": [
    "%pylab inline"
   ]
  },
  {
   "cell_type": "markdown",
   "metadata": {},
   "source": [
    "Work with paths..."
   ]
  },
  {
   "cell_type": "code",
   "execution_count": 4,
   "metadata": {
    "inputHidden": false,
    "outputHidden": false
   },
   "outputs": [],
   "source": [
    "from os.path import join"
   ]
  },
  {
   "cell_type": "markdown",
   "metadata": {},
   "source": [
    "Import image IO libraries -- might not be needed, but I'll keep it in here or now"
   ]
  },
  {
   "cell_type": "code",
   "execution_count": 5,
   "metadata": {
    "collapsed": false,
    "inputHidden": false,
    "jupyter": {
     "outputs_hidden": false
    },
    "outputHidden": false
   },
   "outputs": [],
   "source": [
    "from skimage.io          import imread\n",
    "import matplotlib.pyplot as     pp"
   ]
  },
  {
   "cell_type": "markdown",
   "metadata": {},
   "source": [
    "Creates the validation set"
   ]
  },
  {
   "cell_type": "code",
   "execution_count": 6,
   "metadata": {
    "collapsed": false,
    "inputHidden": false,
    "jupyter": {
     "outputs_hidden": false
    },
    "outputHidden": false
   },
   "outputs": [],
   "source": [
    "from sklearn.model_selection import train_test_split"
   ]
  },
  {
   "cell_type": "markdown",
   "metadata": {},
   "source": [
    "Evaluates the model"
   ]
  },
  {
   "cell_type": "code",
   "execution_count": 7,
   "metadata": {
    "collapsed": false,
    "inputHidden": false,
    "jupyter": {
     "outputs_hidden": false
    },
    "outputHidden": false
   },
   "outputs": [],
   "source": [
    "from sklearn.metrics import accuracy_score\n",
    "from tqdm            import tqdm, trange"
   ]
  },
  {
   "cell_type": "markdown",
   "metadata": {},
   "source": [
    "Pytorch Libraries"
   ]
  },
  {
   "cell_type": "code",
   "execution_count": 8,
   "metadata": {
    "collapsed": false,
    "inputHidden": false,
    "jupyter": {
     "outputs_hidden": false
    },
    "outputHidden": false
   },
   "outputs": [],
   "source": [
    "import torch\n",
    "from torch.autograd import Variable\n",
    "from torch.nn       import Linear, ReLU, CrossEntropyLoss, \\\n",
    "                           Sequential, Conv2d, MaxPool2d,  \\\n",
    "                           Module, Softmax, BatchNorm2d, Dropout\n",
    "from torch.optim    import Adam, SGD"
   ]
  },
  {
   "cell_type": "code",
   "execution_count": 9,
   "metadata": {},
   "outputs": [],
   "source": [
    "A = np.matrix(\n",
    "    [[1, 1], \n",
    "     [3, -4]]\n",
    ")"
   ]
  },
  {
   "cell_type": "code",
   "execution_count": 10,
   "metadata": {},
   "outputs": [],
   "source": [
    "xt = np.array([2,1])\n",
    "b  = matmul_a(A, xt)\n",
    "x0 = np.array([0, 0])"
   ]
  },
  {
   "cell_type": "code",
   "execution_count": 11,
   "metadata": {},
   "outputs": [
    {
     "output_type": "execute_result",
     "data": {
      "text/plain": "array([3, 2])"
     },
     "metadata": {},
     "execution_count": 11
    }
   ],
   "source": [
    "b"
   ]
  },
  {
   "cell_type": "code",
   "execution_count": 12,
   "metadata": {},
   "outputs": [],
   "source": [
    "e = 0\n",
    "nmax_iter = 5"
   ]
  },
  {
   "cell_type": "code",
   "execution_count": 13,
   "metadata": {},
   "outputs": [],
   "source": [
    "x = GMRES(A, b, x0, e, nmax_iter)"
   ]
  },
  {
   "cell_type": "code",
   "execution_count": 14,
   "metadata": {},
   "outputs": [
    {
     "output_type": "execute_result",
     "data": {
      "text/plain": "[array([3, 2]), array([1.96153846, 1.30769231]), array([2., 1.])]"
     },
     "metadata": {},
     "execution_count": 14
    }
   ],
   "source": [
    "x"
   ]
  },
  {
   "cell_type": "code",
   "execution_count": 15,
   "metadata": {},
   "outputs": [],
   "source": [
    "x=torch.empty(0, 2)\n",
    "y=torch.randn(1, 2)"
   ]
  },
  {
   "cell_type": "code",
   "execution_count": 16,
   "metadata": {},
   "outputs": [
    {
     "output_type": "execute_result",
     "data": {
      "text/plain": "tensor([], size=(0, 2))"
     },
     "metadata": {},
     "execution_count": 16
    }
   ],
   "source": [
    "x"
   ]
  },
  {
   "cell_type": "code",
   "execution_count": 17,
   "metadata": {},
   "outputs": [
    {
     "output_type": "execute_result",
     "data": {
      "text/plain": "tensor([-0.2623, -0.4574])"
     },
     "metadata": {},
     "execution_count": 17
    }
   ],
   "source": [
    "y[0, :]"
   ]
  },
  {
   "cell_type": "code",
   "execution_count": 18,
   "metadata": {},
   "outputs": [
    {
     "output_type": "execute_result",
     "data": {
      "text/plain": "tensor([[-0.2623, -0.4574]])"
     },
     "metadata": {},
     "execution_count": 18
    }
   ],
   "source": [
    "z = torch.cat((x, y), 0)\n",
    "z"
   ]
  },
  {
   "cell_type": "code",
   "execution_count": 19,
   "metadata": {},
   "outputs": [
    {
     "output_type": "execute_result",
     "data": {
      "text/plain": "tensor([[-0.2623, -0.4574],\n        [-0.2623, -0.4574]])"
     },
     "metadata": {},
     "execution_count": 19
    }
   ],
   "source": [
    "torch.cat((z, y), 0)"
   ]
  },
  {
   "cell_type": "code",
   "execution_count": 20,
   "metadata": {},
   "outputs": [],
   "source": [
    "x = GMRES(A, b, x0, e, nmax_iter)"
   ]
  },
  {
   "cell_type": "code",
   "execution_count": 21,
   "metadata": {},
   "outputs": [
    {
     "output_type": "execute_result",
     "data": {
      "text/plain": "[array([3, 2]), array([1.96153846, 1.30769231]), array([2., 1.])]"
     },
     "metadata": {},
     "execution_count": 21
    }
   ],
   "source": [
    "x"
   ]
  },
  {
   "cell_type": "code",
   "execution_count": 22,
   "metadata": {},
   "outputs": [],
   "source": [
    "@nn_preconditioner(retrain_freq=2, debug=True,InputDim=2,HiddenDim=100,OutputDim=2)\n",
    "def MLGMRES(A, b, x0, e, nmax_iter):\n",
    "    return GMRES(A, b, x0, e, nmax_iter)"
   ]
  },
  {
   "cell_type": "code",
   "execution_count": 23,
   "metadata": {},
   "outputs": [
    {
     "output_type": "execute_result",
     "data": {
      "text/plain": "[array([3., 2.]), array([1.96153846, 1.30769231]), array([2., 1.])]"
     },
     "metadata": {},
     "execution_count": 23
    }
   ],
   "source": [
    "b1 = np.array([3., 2.])\n",
    "MLGMRES(A, b1, x0, e, nmax_iter)"
   ]
  },
  {
   "cell_type": "code",
   "execution_count": 24,
   "metadata": {},
   "outputs": [
    {
     "output_type": "stream",
     "name": "stdout",
     "text": "retraining\n"
    },
    {
     "output_type": "execute_result",
     "data": {
      "text/plain": "[array([3.1, 2.1]),\n array([2.00470377, 1.35802513]),\n array([2.07142857, 1.02857143])]"
     },
     "metadata": {},
     "execution_count": 24
    }
   ],
   "source": [
    "b2 = np.array([3.1, 2.1])\n",
    "MLGMRES(A, b2, x0, e, nmax_iter)"
   ]
  },
  {
   "cell_type": "code",
   "execution_count": 25,
   "metadata": {},
   "outputs": [
    {
     "output_type": "execute_result",
     "data": {
      "text/plain": "[array([ 0.02922029, -0.18832302]),\n array([2.11798878, 1.08819891]),\n array([2.11428571, 1.08571429])]"
     },
     "metadata": {},
     "execution_count": 25
    }
   ],
   "source": [
    "b3 = np.array([3.2, 2.0])\n",
    "MLGMRES(A, b3, x0, e, nmax_iter)"
   ]
  },
  {
   "cell_type": "code",
   "execution_count": 26,
   "metadata": {},
   "outputs": [
    {
     "output_type": "stream",
     "name": "stdout",
     "text": "retraining\n"
    },
    {
     "output_type": "execute_result",
     "data": {
      "text/plain": "[array([ 0.03549643, -0.27095661]),\n array([2.11044698, 1.10697372]),\n array([2.1, 1.1])]"
     },
     "metadata": {},
     "execution_count": 26
    }
   ],
   "source": [
    "b4 = np.array([3.2, 1.9])\n",
    "MLGMRES(A, b4, x0, e, nmax_iter)"
   ]
  },
  {
   "cell_type": "code",
   "execution_count": 27,
   "metadata": {},
   "outputs": [
    {
     "output_type": "execute_result",
     "data": {
      "text/plain": "[array([-0.10228174,  0.91851342]),\n array([1.49325211, 0.62417187]),\n array([1.54285714, 0.65714286])]"
     },
     "metadata": {},
     "execution_count": 27
    }
   ],
   "source": [
    "b5 = np.array([2.2, 2.0])\n",
    "MLGMRES(A, b5, x0, e, nmax_iter)"
   ]
  },
  {
   "cell_type": "code",
   "execution_count": 28,
   "metadata": {},
   "outputs": [
    {
     "output_type": "stream",
     "name": "stdout",
     "text": "retraining\n"
    },
    {
     "output_type": "execute_result",
     "data": {
      "text/plain": "[array([-0.59030252,  2.18956411]),\n array([ 0.54942084, -0.09750034]),\n array([ 0.4, -0.2])]"
     },
     "metadata": {},
     "execution_count": 28
    }
   ],
   "source": [
    "b6 = np.array([0.2, 2.0])\n",
    "MLGMRES(A, b6, x0, e, nmax_iter)"
   ]
  },
  {
   "cell_type": "code",
   "execution_count": 29,
   "metadata": {},
   "outputs": [
    {
     "output_type": "execute_result",
     "data": {
      "text/plain": "[array([0.40446289, 0.15053272]),\n array([2.33516369, 0.718055  ]),\n array([2.4, 0.8])]"
     },
     "metadata": {},
     "execution_count": 29
    }
   ],
   "source": [
    "b7 = np.array([3.2, 4.0])\n",
    "MLGMRES(A, b7, x0, e, nmax_iter)"
   ]
  },
  {
   "cell_type": "code",
   "execution_count": 30,
   "metadata": {},
   "outputs": [
    {
     "output_type": "stream",
     "name": "stdout",
     "text": "retraining\n"
    },
    {
     "output_type": "execute_result",
     "data": {
      "text/plain": "[array([-0.01001329, -0.03236413]),\n array([2.18416861, 1.13597938]),\n array([2.17142857, 1.12857143])]"
     },
     "metadata": {},
     "execution_count": 30
    }
   ],
   "source": [
    "b8 = np.array([3.3, 2.0])\n",
    "MLGMRES(A, b8, x0, e, nmax_iter)"
   ]
  },
  {
   "cell_type": "code",
   "execution_count": 31,
   "metadata": {},
   "outputs": [
    {
     "output_type": "execute_result",
     "data": {
      "text/plain": "[array([ 0.16482563, -0.11899924]),\n array([3.16110972, 1.86882464]),\n array([3.25714286, 1.94285714])]"
     },
     "metadata": {},
     "execution_count": 31
    }
   ],
   "source": [
    "b9 = np.array([5.2, 2.0])\n",
    "MLGMRES(A, b9, x0, e, nmax_iter)"
   ]
  },
  {
   "cell_type": "code",
   "execution_count": 32,
   "metadata": {},
   "outputs": [
    {
     "output_type": "stream",
     "name": "stdout",
     "text": "retraining\n"
    },
    {
     "output_type": "execute_result",
     "data": {
      "text/plain": "[array([ 0.26160986, -0.20421576]),\n array([2.39075618, 1.54066108]),\n array([2.54285714, 1.65714286])]"
     },
     "metadata": {},
     "execution_count": 32
    }
   ],
   "source": [
    "b10 = np.array([4.2, 1.0])\n",
    "MLGMRES(A, b10, x0, e, nmax_iter)"
   ]
  },
  {
   "cell_type": "code",
   "execution_count": 33,
   "metadata": {},
   "outputs": [
    {
     "output_type": "execute_result",
     "data": {
      "text/plain": "[array([ 0.06679101, -0.03977418]),\n array([2.50395164, 1.62665997]),\n array([2.54285714, 1.65714286])]"
     },
     "metadata": {},
     "execution_count": 33
    }
   ],
   "source": [
    "b10 = np.array([4.2, 1.0])\n",
    "MLGMRES(A, b10, x0, e, nmax_iter)"
   ]
  },
  {
   "cell_type": "code",
   "execution_count": 34,
   "metadata": {},
   "outputs": [
    {
     "output_type": "stream",
     "name": "stdout",
     "text": "retraining\n"
    },
    {
     "output_type": "execute_result",
     "data": {
      "text/plain": "[array([ 0.06679101, -0.03977418]),\n array([2.50395164, 1.62665997]),\n array([2.54285714, 1.65714286])]"
     },
     "metadata": {},
     "execution_count": 34
    }
   ],
   "source": [
    "b10 = np.array([4.2, 1.0])\n",
    "MLGMRES(A, b10, x0, e, nmax_iter)"
   ]
  },
  {
   "cell_type": "code",
   "execution_count": 35,
   "metadata": {},
   "outputs": [
    {
     "output_type": "execute_result",
     "data": {
      "text/plain": "12"
     },
     "metadata": {},
     "execution_count": 35
    }
   ],
   "source": [
    "MLGMRES.predictor.counter"
   ]
  },
  {
   "cell_type": "code",
   "execution_count": null,
   "metadata": {},
   "outputs": [],
   "source": []
  },
  {
   "cell_type": "code",
   "execution_count": null,
   "metadata": {},
   "outputs": [],
   "source": []
  },
  {
   "cell_type": "code",
   "execution_count": null,
   "metadata": {},
   "outputs": [],
   "source": []
  },
  {
   "cell_type": "code",
   "execution_count": null,
   "metadata": {},
   "outputs": [],
   "source": []
  },
  {
   "cell_type": "code",
   "execution_count": null,
   "metadata": {},
   "outputs": [],
   "source": []
  },
  {
   "cell_type": "code",
   "execution_count": null,
   "metadata": {},
   "outputs": [],
   "source": []
  },
  {
   "cell_type": "code",
   "execution_count": null,
   "metadata": {},
   "outputs": [],
   "source": []
  },
  {
   "cell_type": "code",
   "execution_count": null,
   "metadata": {},
   "outputs": [],
   "source": []
  },
  {
   "cell_type": "code",
   "execution_count": 41,
   "metadata": {},
   "outputs": [
    {
     "output_type": "stream",
     "name": "stdout",
     "text": "t=  9900, loss=0.01801: 100%|██████████| 10000/10000 [00:03<00:00, 2706.47it/s]\n"
    }
   ],
   "source": [
    "# N is batch size; D_in is input dimension;\n",
    "# H is hidden dimension; D_out is output dimension.\n",
    "N, D_in, H, D_out = 100, 2, 100, 2\n",
    "\n",
    "# Create random Tensors to hold inputs and outputs\n",
    "x = torch.randn(N, D_in)   # equivalent to b  -- in the context of Ax = b\n",
    "y = torch.empty(N, D_out)  # equivalent to x  ----------- ~~ ------------\n",
    "for i in range(N):\n",
    "    y[i, :] = torch.from_numpy(matmul_a(A, x[i, :]))\n",
    "\n",
    "# Construct our model by instantiating the class defined above\n",
    "model = TwoLayerNet(D_in, H, D_out)\n",
    "\n",
    "# Construct our loss function and an Optimizer. The call to model.parameters()\n",
    "# in the SGD constructor will contain the learnable parameters of the two\n",
    "# nn.Linear modules which are members of the model.\n",
    "criterion = torch.nn.MSELoss(reduction='sum')\n",
    "optimizer = torch.optim.SGD(model.parameters(), lr=1e-4)\n",
    "\n",
    "n_steps = 10000\n",
    "print_f = n_steps/100\n",
    "with tqdm(total=n_steps, file=sys.stdout, leave=True) as pbar:\n",
    "    for t in range(n_steps):\n",
    "        # Forward pass: Compute predicted y by passing x to the model\n",
    "        y_pred = model(x)\n",
    "\n",
    "        # Compute and print loss\n",
    "        loss = criterion(y_pred, y)\n",
    "        if t % print_f == 0:\n",
    "            # print(t, loss.item())\n",
    "            loss_val = loss.item()\n",
    "            pbar.set_description(f\"t={t:6d}, loss={loss_val:.5f}\")\n",
    "\n",
    "        # Zero gradients, perform a backward pass, and update the weights.\n",
    "        optimizer.zero_grad()\n",
    "        loss.backward()\n",
    "        optimizer.step()\n",
    "        pbar.update(1)"
   ]
  },
  {
   "cell_type": "code",
   "execution_count": 37,
   "metadata": {},
   "outputs": [
    {
     "output_type": "execute_result",
     "data": {
      "text/plain": "matrix([[-1.23950583, -0.3039158 ]])"
     },
     "metadata": {},
     "execution_count": 37
    }
   ],
   "source": [
    "np.dot(A,x[0,:])"
   ]
  },
  {
   "cell_type": "code",
   "execution_count": 38,
   "metadata": {},
   "outputs": [
    {
     "output_type": "execute_result",
     "data": {
      "text/plain": "tensor([-1.2395, -0.2751], grad_fn=<AddBackward0>)"
     },
     "metadata": {},
     "execution_count": 38
    }
   ],
   "source": [
    "model.forward(x[0,:])"
   ]
  },
  {
   "cell_type": "code",
   "execution_count": 39,
   "metadata": {},
   "outputs": [
    {
     "output_type": "execute_result",
     "data": {
      "text/plain": "tensor([-1.2395, -0.3039])"
     },
     "metadata": {},
     "execution_count": 39
    }
   ],
   "source": [
    "y[0,:]"
   ]
  },
  {
   "cell_type": "code",
   "execution_count": 40,
   "metadata": {},
   "outputs": [
    {
     "output_type": "execute_result",
     "data": {
      "text/plain": "tensor([-0.7517, -0.4878])"
     },
     "metadata": {},
     "execution_count": 40
    }
   ],
   "source": [
    "x[0,:]"
   ]
  },
  {
   "cell_type": "code",
   "execution_count": null,
   "metadata": {},
   "outputs": [],
   "source": []
  },
  {
   "cell_type": "code",
   "execution_count": null,
   "metadata": {},
   "outputs": [],
   "source": []
  },
  {
   "cell_type": "code",
   "execution_count": null,
   "metadata": {},
   "outputs": [],
   "source": []
  },
  {
   "cell_type": "code",
   "execution_count": null,
   "metadata": {},
   "outputs": [],
   "source": []
  },
  {
   "cell_type": "code",
   "execution_count": null,
   "metadata": {},
   "outputs": [],
   "source": []
  }
 ],
 "metadata": {
  "kernelspec": {
   "display_name": "Python 3",
   "language": "python",
   "name": "python3"
  },
  "language_info": {
   "codemirror_mode": {
    "name": "ipython",
    "version": 3
   },
   "file_extension": ".py",
   "mimetype": "text/x-python",
   "name": "python",
   "nbconvert_exporter": "python",
   "pygments_lexer": "ipython3",
   "version": "3.7.4-final"
  }
 },
 "nbformat": 4,
 "nbformat_minor": 4
}