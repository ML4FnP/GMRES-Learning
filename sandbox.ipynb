{
 "cells": [
  {
   "cell_type": "markdown",
   "metadata": {},
   "source": [
    "# Learning how to Solve a Linear Problem using Neural Networks in PyTorch"
   ]
  },
  {
   "cell_type": "markdown",
   "metadata": {},
   "source": [
    "Import basic data types"
   ]
  },
  {
   "cell_type": "code",
   "execution_count": 1,
   "metadata": {
    "collapsed": false,
    "inputHidden": false,
    "jupyter": {
     "outputs_hidden": false
    },
    "outputHidden": false
   },
   "outputs": [],
   "source": [
    "import pandas as pd\n",
    "import numpy  as np"
   ]
  },
  {
   "cell_type": "markdown",
   "metadata": {},
   "source": [
    "By building our own GMRES function, we can take it appart and play with it's insides"
   ]
  },
  {
   "cell_type": "code",
   "execution_count": 2,
   "metadata": {},
   "outputs": [],
   "source": [
    "from gmres import GMRES"
   ]
  },
  {
   "cell_type": "markdown",
   "metadata": {},
   "source": [
    "Pyplot should display images inline"
   ]
  },
  {
   "cell_type": "code",
   "execution_count": 3,
   "metadata": {
    "collapsed": false,
    "inputHidden": false,
    "jupyter": {
     "outputs_hidden": false
    },
    "outputHidden": false
   },
   "outputs": [
    {
     "name": "stdout",
     "output_type": "stream",
     "text": [
      "Populating the interactive namespace from numpy and matplotlib\n"
     ]
    }
   ],
   "source": [
    "%pylab inline"
   ]
  },
  {
   "cell_type": "markdown",
   "metadata": {},
   "source": [
    "Work with paths..."
   ]
  },
  {
   "cell_type": "code",
   "execution_count": 4,
   "metadata": {
    "inputHidden": false,
    "outputHidden": false
   },
   "outputs": [],
   "source": [
    "from os.path import join"
   ]
  },
  {
   "cell_type": "markdown",
   "metadata": {},
   "source": [
    "Import image IO libraries -- might not be needed, but I'll keep it in here or now"
   ]
  },
  {
   "cell_type": "code",
   "execution_count": 5,
   "metadata": {
    "collapsed": false,
    "inputHidden": false,
    "jupyter": {
     "outputs_hidden": false
    },
    "outputHidden": false
   },
   "outputs": [],
   "source": [
    "from skimage.io          import imread\n",
    "import matplotlib.pyplot as     pp"
   ]
  },
  {
   "cell_type": "markdown",
   "metadata": {},
   "source": [
    "Creates the validation set"
   ]
  },
  {
   "cell_type": "code",
   "execution_count": 6,
   "metadata": {
    "collapsed": false,
    "inputHidden": false,
    "jupyter": {
     "outputs_hidden": false
    },
    "outputHidden": false
   },
   "outputs": [],
   "source": [
    "from sklearn.model_selection import train_test_split"
   ]
  },
  {
   "cell_type": "markdown",
   "metadata": {},
   "source": [
    "Evaluates the model"
   ]
  },
  {
   "cell_type": "code",
   "execution_count": 7,
   "metadata": {
    "collapsed": false,
    "inputHidden": false,
    "jupyter": {
     "outputs_hidden": false
    },
    "outputHidden": false
   },
   "outputs": [],
   "source": [
    "from sklearn.metrics import accuracy_score\n",
    "from tqdm            import tqdm, trange"
   ]
  },
  {
   "cell_type": "markdown",
   "metadata": {},
   "source": [
    "Pytorch Libraries"
   ]
  },
  {
   "cell_type": "code",
   "execution_count": 8,
   "metadata": {
    "collapsed": false,
    "inputHidden": false,
    "jupyter": {
     "outputs_hidden": false
    },
    "outputHidden": false
   },
   "outputs": [],
   "source": [
    "import torch\n",
    "from torch.autograd import Variable\n",
    "from torch.nn       import Linear, ReLU, CrossEntropyLoss, \\\n",
    "                           Sequential, Conv2d, MaxPool2d,  \\\n",
    "                           Module, Softmax, BatchNorm2d, Dropout\n",
    "from torch.optim    import Adam, SGD"
   ]
  },
  {
   "cell_type": "code",
   "execution_count": 9,
   "metadata": {},
   "outputs": [],
   "source": [
    "mat_to_a = lambda a    : np.squeeze(np.asarray(a))\n",
    "matmul_a = lambda a, b : mat_to_a(np.dot(a, b))"
   ]
  },
  {
   "cell_type": "code",
   "execution_count": 10,
   "metadata": {},
   "outputs": [],
   "source": [
    "A = np.matrix(\n",
    "    [[1, 1], \n",
    "     [3, -4]]\n",
    ")"
   ]
  },
  {
   "cell_type": "code",
   "execution_count": 11,
   "metadata": {},
   "outputs": [],
   "source": [
    "xt = np.array([2,1])\n",
    "b  = matmul_a(A, xt)\n",
    "x0 = np.array([0, 0])"
   ]
  },
  {
   "cell_type": "code",
   "execution_count": 12,
   "metadata": {},
   "outputs": [
    {
     "data": {
      "text/plain": [
       "array([3, 2])"
      ]
     },
     "execution_count": 12,
     "metadata": {},
     "output_type": "execute_result"
    }
   ],
   "source": [
    "b"
   ]
  },
  {
   "cell_type": "code",
   "execution_count": 13,
   "metadata": {},
   "outputs": [],
   "source": [
    "e = 0\n",
    "nmax_iter = 5"
   ]
  },
  {
   "cell_type": "code",
   "execution_count": 14,
   "metadata": {},
   "outputs": [],
   "source": [
    "x = GMRES(A, b, x0, e, nmax_iter)"
   ]
  },
  {
   "cell_type": "code",
   "execution_count": 15,
   "metadata": {},
   "outputs": [
    {
     "data": {
      "text/plain": [
       "[array([3, 2]), array([1.96153846, 1.30769231]), array([2., 1.])]"
      ]
     },
     "execution_count": 15,
     "metadata": {},
     "output_type": "execute_result"
    }
   ],
   "source": [
    "x"
   ]
  },
  {
   "cell_type": "code",
   "execution_count": 16,
   "metadata": {},
   "outputs": [],
   "source": [
    "class TwoLayerNet(torch.nn.Module):\n",
    "    def __init__(self, D_in, H, D_out):\n",
    "        \"\"\"\n",
    "        In the constructor we instantiate two nn.Linear modules and assign them as\n",
    "        member variables.\n",
    "        \"\"\"\n",
    "        super(TwoLayerNet, self).__init__()\n",
    "        self.linear1 = torch.nn.Linear(D_in, H)\n",
    "        self.linear2 = torch.nn.Linear(H, D_out)\n",
    "\n",
    "    def forward(self, x):\n",
    "        \"\"\"\n",
    "        In the forward function we accept a Tensor of input data and we must return\n",
    "        a Tensor of output data. We can use Modules defined in the constructor as\n",
    "        well as arbitrary operators on Tensors.\n",
    "        \"\"\"\n",
    "        h_relu = self.linear1(x).clamp(min=0)\n",
    "        y_pred = self.linear2(h_relu)\n",
    "        return y_pred"
   ]
  },
  {
   "cell_type": "code",
   "execution_count": 17,
   "metadata": {},
   "outputs": [],
   "source": [
    "x=torch.empty(0, 2)\n",
    "y=torch.randn(1, 2)"
   ]
  },
  {
   "cell_type": "code",
   "execution_count": 18,
   "metadata": {},
   "outputs": [
    {
     "data": {
      "text/plain": [
       "tensor([-1.2058,  0.4605])"
      ]
     },
     "execution_count": 18,
     "metadata": {},
     "output_type": "execute_result"
    }
   ],
   "source": [
    "y[0, :]"
   ]
  },
  {
   "cell_type": "code",
   "execution_count": 19,
   "metadata": {},
   "outputs": [],
   "source": [
    "z = torch.cat((x, y), 0)"
   ]
  },
  {
   "cell_type": "code",
   "execution_count": 20,
   "metadata": {},
   "outputs": [
    {
     "data": {
      "text/plain": [
       "tensor([[-1.2058,  0.4605],\n",
       "        [-1.2058,  0.4605]])"
      ]
     },
     "execution_count": 20,
     "metadata": {},
     "output_type": "execute_result"
    }
   ],
   "source": [
    "torch.cat((z, y), 0)"
   ]
  },
  {
   "cell_type": "code",
   "execution_count": 332,
   "metadata": {},
   "outputs": [],
   "source": [
    "class NNPredictor(object):\n",
    "\n",
    "    def __init__(self):\n",
    "        # N is batch size; D_in is input dimension;\n",
    "        # H is hidden dimension; D_out is output dimension.\n",
    "        self.N, self.D_in, self.H, self.D_out = 1, 2, 100, 2\n",
    "\n",
    "        # Construct our model by instantiating the class defined above\n",
    "        self.model = TwoLayerNet(self.D_in, self.H, self.D_out)\n",
    "\n",
    "        # Construct our loss function and an Optimizer. The call to model.parameters()\n",
    "        # in the SGD constructor will contain the learnable parameters of the two\n",
    "        # nn.Linear modules which are members of the model.\n",
    "        self.criterion = torch.nn.MSELoss(reduction='sum')\n",
    "        self.optimizer = torch.optim.SGD(self.model.parameters(), lr=1e-4)\n",
    "\n",
    "        self.x = torch.empty(0, self.D_in)\n",
    "        self.y = torch.empty(0, self.D_out)\n",
    "        self._is_trained = False\n",
    "        # Diagnostic data => remove in production\n",
    "        self.loss_val = list()\n",
    "\n",
    "    @property\n",
    "    def is_trained(self):\n",
    "        return self._is_trained\n",
    "\n",
    "    @is_trained.setter\n",
    "    def is_trained(self, value):\n",
    "        self._is_trained = value\n",
    "\n",
    "    def retrain(self):\n",
    "        self.n_steps = 1000\n",
    "        for t in range(self.n_steps):\n",
    "            # Forward pass: Compute predicted y by passing x to the model\n",
    "            y_pred = self.model(self.x)\n",
    "\n",
    "            # Compute and print loss\n",
    "            loss = self.criterion(y_pred, self.y)\n",
    "            self.loss_val.append(loss.item())\n",
    "\n",
    "            # Zero gradients, perform a backward pass, and update the weights.\n",
    "            self.optimizer.zero_grad()\n",
    "            loss.backward()\n",
    "            self.optimizer.step()\n",
    "\n",
    "        self.is_trained = True\n",
    "        \n",
    "    def add(self, x, y):\n",
    "        # TODO: don't use `torch.cat` in this incremental mode => will scale poorly\n",
    "        # instead: use batched buffers\n",
    "        self.x = torch.cat((self.x, torch.from_numpy(x).unsqueeze_(0).float()), 0)\n",
    "        self.y = torch.cat((self.y, torch.from_numpy(y).unsqueeze_(0).float()), 0)\n",
    "    \n",
    "    def predict(self, x):\n",
    "        return np.squeeze(\n",
    "            self.model.forward(\n",
    "                torch.from_numpy(x).unsqueeze_(0).float() # inputs need to be [[x_1, x_2, ...]] as floats\n",
    "            ).detach().numpy() # outputs need to be numpy (non-grad => detach)\n",
    "        ) # outputs need to be [y_1, y_2, ...]"
   ]
  },
  {
   "cell_type": "code",
   "execution_count": 333,
   "metadata": {},
   "outputs": [],
   "source": [
    "import functools\n",
    "\n",
    "\n",
    "def speedup_decorator(retrain_freq=10):\n",
    "\n",
    "    def my_decorator(func):\n",
    "        func.predictor = NNPredictor()\n",
    "        func.counter = 0;\n",
    "        func.retrain_freq = retrain_freq\n",
    "\n",
    "        @functools.wraps(func)\n",
    "        def speedup_wrapper(*args, **kwargs):\n",
    "\n",
    "            A, b, x0, e, nmax_iter, *eargs = args\n",
    "\n",
    "            if func.predictor.is_trained:\n",
    "                pred_x0 = func.predictor.predict(b)\n",
    "                print(pred_x0)\n",
    "            else:\n",
    "                pred_x0 = x0\n",
    "\n",
    "            target  = func(A, b, pred_x0, e, nmax_iter, *eargs)\n",
    "\n",
    "            res = target[-1]\n",
    "\n",
    "            func.predictor.add(b, res)\n",
    "            func.counter += 1\n",
    "            print(func.counter)\n",
    "\n",
    "            if func.counter%retrain_freq == 0:\n",
    "                print(\"retraining\")\n",
    "                func.predictor.retrain()\n",
    "\n",
    "            return target\n",
    "\n",
    "        return speedup_wrapper\n",
    "    return my_decorator"
   ]
  },
  {
   "cell_type": "code",
   "execution_count": 334,
   "metadata": {},
   "outputs": [],
   "source": [
    "x = GMRES(A, b, x0, e, nmax_iter)"
   ]
  },
  {
   "cell_type": "code",
   "execution_count": 335,
   "metadata": {},
   "outputs": [
    {
     "data": {
      "text/plain": [
       "[array([3, 2]), array([1.96153846, 1.30769231]), array([2., 1.])]"
      ]
     },
     "execution_count": 335,
     "metadata": {},
     "output_type": "execute_result"
    }
   ],
   "source": [
    "x"
   ]
  },
  {
   "cell_type": "code",
   "execution_count": 336,
   "metadata": {},
   "outputs": [],
   "source": [
    "@speedup_decorator(retrain_freq=2)\n",
    "def MLGMRES(A, b, x0, e, nmax_iter):\n",
    "    return GMRES(A, b, x0, e, nmax_iter)"
   ]
  },
  {
   "cell_type": "code",
   "execution_count": 343,
   "metadata": {},
   "outputs": [
    {
     "name": "stdout",
     "output_type": "stream",
     "text": [
      "[2.0010324 1.0002786]\n",
      "4\n",
      "retraining\n"
     ]
    },
    {
     "data": {
      "text/plain": [
       "[array([-0.00131094, -0.00198269]),\n",
       " array([2.00120868, 1.00054527]),\n",
       " array([2., 1.])]"
      ]
     },
     "execution_count": 343,
     "metadata": {},
     "output_type": "execute_result"
    }
   ],
   "source": [
    "b1 = np.array([3., 2.])\n",
    "MLGMRES(A, b1, x0, e, nmax_iter)"
   ]
  },
  {
   "cell_type": "code",
   "execution_count": 344,
   "metadata": {},
   "outputs": [
    {
     "name": "stdout",
     "output_type": "stream",
     "text": [
      "[2.0777142 1.0373486]\n",
      "5\n"
     ]
    },
    {
     "data": {
      "text/plain": [
       "[array([-0.01506283,  0.0162519 ]),\n",
       " array([2.07995765, 1.03492808]),\n",
       " array([2.07142857, 1.02857143])]"
      ]
     },
     "execution_count": 344,
     "metadata": {},
     "output_type": "execute_result"
    }
   ],
   "source": [
    "b2 = np.array([3.1, 2.1])\n",
    "MLGMRES(A, b2, x0, e, nmax_iter)"
   ]
  },
  {
   "cell_type": "code",
   "execution_count": 345,
   "metadata": {},
   "outputs": [
    {
     "name": "stdout",
     "output_type": "stream",
     "text": [
      "[2.0923827 1.0594704]\n",
      "6\n",
      "retraining\n"
     ]
    },
    {
     "data": {
      "text/plain": [
       "[array([ 0.04814692, -0.03926635]),\n",
       " array([2.086344  , 1.06439527]),\n",
       " array([2.11428571, 1.08571429])]"
      ]
     },
     "execution_count": 345,
     "metadata": {},
     "output_type": "execute_result"
    }
   ],
   "source": [
    "b3 = np.array([3.2, 2.0])\n",
    "MLGMRES(A, b3, x0, e, nmax_iter)"
   ]
  },
  {
   "cell_type": "code",
   "execution_count": 346,
   "metadata": {},
   "outputs": [
    {
     "name": "stdout",
     "output_type": "stream",
     "text": [
      "[2.0680227 1.0604382]\n",
      "7\n"
     ]
    },
    {
     "data": {
      "text/plain": [
       "[array([ 0.07153912, -0.06231556]),\n",
       " array([2.05863556, 1.06861504]),\n",
       " array([2.1, 1.1])]"
      ]
     },
     "execution_count": 346,
     "metadata": {},
     "output_type": "execute_result"
    }
   ],
   "source": [
    "b4 = np.array([3.2, 1.9])\n",
    "MLGMRES(A, b4, x0, e, nmax_iter)"
   ]
  },
  {
   "cell_type": "code",
   "execution_count": 347,
   "metadata": {},
   "outputs": [
    {
     "name": "stdout",
     "output_type": "stream",
     "text": [
      "[1.692209  0.7989203]\n",
      "8\n",
      "retraining\n"
     ]
    },
    {
     "data": {
      "text/plain": [
       "[array([-0.29112928,  0.11905408]),\n",
       " array([1.70960084, 0.79180808]),\n",
       " array([1.54285714, 0.65714286])]"
      ]
     },
     "execution_count": 347,
     "metadata": {},
     "output_type": "execute_result"
    }
   ],
   "source": [
    "b5 = np.array([2.2, 2.0])\n",
    "MLGMRES(A, b5, x0, e, nmax_iter)"
   ]
  },
  {
   "cell_type": "code",
   "execution_count": 348,
   "metadata": {},
   "outputs": [
    {
     "name": "stdout",
     "output_type": "stream",
     "text": [
      "[1.042531   0.46768808]\n",
      "9\n"
     ]
    },
    {
     "data": {
      "text/plain": [
       "[array([-1.3102191 ,  0.74315929]),\n",
       " array([1.16234441, 0.39972965]),\n",
       " array([ 0.4, -0.2])]"
      ]
     },
     "execution_count": 348,
     "metadata": {},
     "output_type": "execute_result"
    }
   ],
   "source": [
    "b6 = np.array([0.2, 2.0])\n",
    "MLGMRES(A, b6, x0, e, nmax_iter)"
   ]
  },
  {
   "cell_type": "code",
   "execution_count": 349,
   "metadata": {},
   "outputs": [
    {
     "name": "stdout",
     "output_type": "stream",
     "text": [
      "[2.654543  0.9779748]\n",
      "10\n",
      "retraining\n"
     ]
    },
    {
     "data": {
      "text/plain": [
       "[array([-0.4325177 , -0.05172968]),\n",
       " array([2.57378978, 0.96831659]),\n",
       " array([2.4, 0.8])]"
      ]
     },
     "execution_count": 349,
     "metadata": {},
     "output_type": "execute_result"
    }
   ],
   "source": [
    "b7 = np.array([3.2, 4.0])\n",
    "MLGMRES(A, b7, x0, e, nmax_iter)"
   ]
  },
  {
   "cell_type": "code",
   "execution_count": 350,
   "metadata": {},
   "outputs": [
    {
     "name": "stdout",
     "output_type": "stream",
     "text": [
      "[2.1938999 1.1449088]\n",
      "11\n"
     ]
    },
    {
     "data": {
      "text/plain": [
       "[array([-0.03880866, -0.00206447]),\n",
       " array([2.18864775, 1.14462939]),\n",
       " array([2.17142857, 1.12857143])]"
      ]
     },
     "execution_count": 350,
     "metadata": {},
     "output_type": "execute_result"
    }
   ],
   "source": [
    "b8 = np.array([3.3, 2.0])\n",
    "MLGMRES(A, b8, x0, e, nmax_iter)"
   ]
  },
  {
   "cell_type": "code",
   "execution_count": 351,
   "metadata": {},
   "outputs": [
    {
     "name": "stdout",
     "output_type": "stream",
     "text": [
      "[3.3756711 1.9581655]\n",
      "12\n",
      "retraining\n"
     ]
    },
    {
     "data": {
      "text/plain": [
       "[array([-0.13383667, -0.29435134]),\n",
       " array([3.40482546, 2.02228555]),\n",
       " array([3.25714286, 1.94285714])]"
      ]
     },
     "execution_count": 351,
     "metadata": {},
     "output_type": "execute_result"
    }
   ],
   "source": [
    "b9 = np.array([5.2, 2.0])\n",
    "MLGMRES(A, b9, x0, e, nmax_iter)"
   ]
  },
  {
   "cell_type": "code",
   "execution_count": 352,
   "metadata": {},
   "outputs": [
    {
     "name": "stdout",
     "output_type": "stream",
     "text": [
      "[2.5921319 1.5885458]\n",
      "13\n"
     ]
    },
    {
     "data": {
      "text/plain": [
       "[array([ 0.01932235, -0.42221236]),\n",
       " array([2.58765065, 1.68646447]),\n",
       " array([2.54285714, 1.65714286])]"
      ]
     },
     "execution_count": 352,
     "metadata": {},
     "output_type": "execute_result"
    }
   ],
   "source": [
    "b10 = np.array([4.2, 1.0])\n",
    "MLGMRES(A, b10, x0, e, nmax_iter)"
   ]
  },
  {
   "cell_type": "code",
   "execution_count": 353,
   "metadata": {},
   "outputs": [
    {
     "name": "stdout",
     "output_type": "stream",
     "text": [
      "[2.5921319 1.5885458]\n",
      "14\n",
      "retraining\n"
     ]
    },
    {
     "data": {
      "text/plain": [
       "[array([ 0.01932235, -0.42221236]),\n",
       " array([2.58765065, 1.68646447]),\n",
       " array([2.54285714, 1.65714286])]"
      ]
     },
     "execution_count": 353,
     "metadata": {},
     "output_type": "execute_result"
    }
   ],
   "source": [
    "b10 = np.array([4.2, 1.0])\n",
    "MLGMRES(A, b10, x0, e, nmax_iter)"
   ]
  },
  {
   "cell_type": "code",
   "execution_count": 354,
   "metadata": {},
   "outputs": [
    {
     "name": "stdout",
     "output_type": "stream",
     "text": [
      "[2.54779   1.6316874]\n",
      "15\n"
     ]
    },
    {
     "data": {
      "text/plain": [
       "[array([ 0.02052255, -0.11662054]),\n",
       " array([2.54326242, 1.65741595]),\n",
       " array([2.54285714, 1.65714286])]"
      ]
     },
     "execution_count": 354,
     "metadata": {},
     "output_type": "execute_result"
    }
   ],
   "source": [
    "b10 = np.array([4.2, 1.0])\n",
    "MLGMRES(A, b10, x0, e, nmax_iter)"
   ]
  },
  {
   "cell_type": "code",
   "execution_count": null,
   "metadata": {},
   "outputs": [],
   "source": []
  },
  {
   "cell_type": "code",
   "execution_count": null,
   "metadata": {},
   "outputs": [],
   "source": []
  },
  {
   "cell_type": "code",
   "execution_count": null,
   "metadata": {},
   "outputs": [],
   "source": []
  },
  {
   "cell_type": "code",
   "execution_count": null,
   "metadata": {},
   "outputs": [],
   "source": []
  },
  {
   "cell_type": "code",
   "execution_count": null,
   "metadata": {},
   "outputs": [],
   "source": []
  },
  {
   "cell_type": "code",
   "execution_count": null,
   "metadata": {},
   "outputs": [],
   "source": []
  },
  {
   "cell_type": "code",
   "execution_count": null,
   "metadata": {},
   "outputs": [],
   "source": []
  },
  {
   "cell_type": "code",
   "execution_count": null,
   "metadata": {},
   "outputs": [],
   "source": []
  },
  {
   "cell_type": "code",
   "execution_count": null,
   "metadata": {},
   "outputs": [],
   "source": []
  },
  {
   "cell_type": "code",
   "execution_count": 118,
   "metadata": {},
   "outputs": [
    {
     "name": "stdout",
     "output_type": "stream",
     "text": [
      "t=  9900, loss=0.05285: 100%|██████████| 10000/10000 [00:04<00:00, 2477.12it/s]\n"
     ]
    }
   ],
   "source": [
    "# N is batch size; D_in is input dimension;\n",
    "# H is hidden dimension; D_out is output dimension.\n",
    "N, D_in, H, D_out = 100, 2, 100, 2\n",
    "\n",
    "# Create random Tensors to hold inputs and outputs\n",
    "x = torch.randn(N, D_in)   # equivalent to b  -- in the context of Ax = b\n",
    "y = torch.empty(N, D_out)  # equivalent to x  ----------- ~~ ------------\n",
    "for i in range(N):\n",
    "    y[i, :] = torch.from_numpy(matmul_a(A, x[i, :]))\n",
    "\n",
    "# Construct our model by instantiating the class defined above\n",
    "model = TwoLayerNet(D_in, H, D_out)\n",
    "\n",
    "# Construct our loss function and an Optimizer. The call to model.parameters()\n",
    "# in the SGD constructor will contain the learnable parameters of the two\n",
    "# nn.Linear modules which are members of the model.\n",
    "criterion = torch.nn.MSELoss(reduction='sum')\n",
    "optimizer = torch.optim.SGD(model.parameters(), lr=1e-4)\n",
    "\n",
    "n_steps = 10000\n",
    "print_f = n_steps/100\n",
    "with tqdm(total=n_steps, file=sys.stdout, leave=True) as pbar:\n",
    "    for t in range(n_steps):\n",
    "        # Forward pass: Compute predicted y by passing x to the model\n",
    "        y_pred = model(x)\n",
    "\n",
    "        # Compute and print loss\n",
    "        loss = criterion(y_pred, y)\n",
    "        if t % print_f == 0:\n",
    "            # print(t, loss.item())\n",
    "            loss_val = loss.item()\n",
    "            pbar.set_description(f\"t={t:6d}, loss={loss_val:.5f}\")\n",
    "\n",
    "        # Zero gradients, perform a backward pass, and update the weights.\n",
    "        optimizer.zero_grad()\n",
    "        loss.backward()\n",
    "        optimizer.step()\n",
    "        pbar.update(1)"
   ]
  },
  {
   "cell_type": "code",
   "execution_count": 91,
   "metadata": {},
   "outputs": [
    {
     "data": {
      "text/plain": [
       "tensor([ 0.5003, -7.7463], grad_fn=<AddBackward0>)"
      ]
     },
     "execution_count": 91,
     "metadata": {},
     "output_type": "execute_result"
    }
   ],
   "source": [
    "model.forward(x[1,:])"
   ]
  },
  {
   "cell_type": "code",
   "execution_count": 92,
   "metadata": {},
   "outputs": [
    {
     "data": {
      "text/plain": [
       "tensor([ 0.5044, -7.7441])"
      ]
     },
     "execution_count": 92,
     "metadata": {},
     "output_type": "execute_result"
    }
   ],
   "source": [
    "y[1,:]"
   ]
  },
  {
   "cell_type": "code",
   "execution_count": 120,
   "metadata": {},
   "outputs": [
    {
     "data": {
      "text/plain": [
       "tensor([-1.5171, -0.9901])"
      ]
     },
     "execution_count": 120,
     "metadata": {},
     "output_type": "execute_result"
    }
   ],
   "source": [
    "x[0,:]"
   ]
  },
  {
   "cell_type": "code",
   "execution_count": null,
   "metadata": {},
   "outputs": [],
   "source": []
  },
  {
   "cell_type": "code",
   "execution_count": null,
   "metadata": {},
   "outputs": [],
   "source": []
  },
  {
   "cell_type": "code",
   "execution_count": null,
   "metadata": {},
   "outputs": [],
   "source": []
  },
  {
   "cell_type": "code",
   "execution_count": null,
   "metadata": {},
   "outputs": [],
   "source": []
  },
  {
   "cell_type": "code",
   "execution_count": null,
   "metadata": {},
   "outputs": [],
   "source": []
  }
 ],
 "metadata": {
  "kernelspec": {
   "display_name": "Python 3",
   "language": "python",
   "name": "python3"
  },
  "language_info": {
   "codemirror_mode": {
    "name": "ipython",
    "version": 3
   },
   "file_extension": ".py",
   "mimetype": "text/x-python",
   "name": "python",
   "nbconvert_exporter": "python",
   "pygments_lexer": "ipython3",
   "version": "3.7.7"
  }
 },
 "nbformat": 4,
 "nbformat_minor": 4
}
