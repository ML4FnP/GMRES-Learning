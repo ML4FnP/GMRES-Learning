{
 "cells": [
  {
   "cell_type": "code",
   "execution_count": null,
   "id": "29e36b73",
   "metadata": {},
   "outputs": [],
   "source": []
  },
  {
   "cell_type": "code",
   "execution_count": 1,
   "id": "25d173ca",
   "metadata": {},
   "outputs": [
    {
     "name": "stdout",
     "output_type": "stream",
     "text": [
      "Populating the interactive namespace from numpy and matplotlib\n"
     ]
    }
   ],
   "source": [
    "%pylab inline"
   ]
  },
  {
   "cell_type": "code",
   "execution_count": 2,
   "id": "fa7a269c",
   "metadata": {
    "tags": []
   },
   "outputs": [],
   "source": [
    "import numpy as     np\n",
    "from   numba import njit\n",
    "from src_dir import Gauss_pdf_2D, GMRES, GMRES_numba, mk_laplace_2d, laplace_2d_dirichlet"
   ]
  },
  {
   "cell_type": "code",
   "execution_count": 25,
   "id": "cef28e79",
   "metadata": {},
   "outputs": [],
   "source": [
    "# Set dimension of the NxN grid used\n",
    "# Note: For optimal performance, the neural network \"cnn_collectionOnline2D.py\"\n",
    "# can be tweaked with appropriate kernel dilations, however the code should\n",
    "# still work and yield resuluts for any dimension of input provided\n",
    "dim = 80\n",
    "\n",
    "# Default initial guess used for direct un-preconditioned GMRES is the zero\n",
    "# solution\n",
    "x0 = np.squeeze(np.zeros((dim,dim)))\n",
    "x0Type = 'Zero Solution 2D'\n",
    "\n",
    "# Set tolerances for GMRES solver\n",
    "e = 1e-10\n",
    "\n",
    "# Restarted GMRES parameters\n",
    "nmax_iter = 10\n",
    "restart   = 1000\n",
    "\n",
    "# Create domain [-1,1]x[-1,1]\n",
    "# Define grid values at midpoints of cartesian grid\n",
    "DomainL = -1.0\n",
    "DomainR =  1.0\n",
    "dx = (DomainR-DomainL)/(dim-1)\n",
    "x1 = np.linspace(DomainL+dx,DomainR-dx,dim)\n",
    "x2 = np.linspace(DomainL+dx,DomainR-dx,dim)\n",
    "X, Y = np.meshgrid(x1, x2, sparse=False, indexing='ij')\n",
    "Area = (dx*(dim-1))**2\n",
    "\n",
    "# Create 2D laplace opertor as a stencil opertor for a N-cell 2D grid\n",
    "# Can be found in linop.py in src_di\n",
    "A = mk_laplace_2d(dim, dim, bc=\"dirichlet\", xlo=0, xhi=0, ylo=0, yhi=0)\n",
    "AType = '2D Laplacian'\n",
    "\n",
    "# Total number of steps in simulation\n",
    "n_steps = 100"
   ]
  },
  {
   "cell_type": "code",
   "execution_count": 26,
   "id": "b7d21551",
   "metadata": {},
   "outputs": [],
   "source": [
    "def particle(X, Y, x, y, charge, sigma):\n",
    "    b = charge*Gauss_pdf_2D(X, Y, x, y, sigma)\n",
    "    return b\n",
    "\n",
    "def force(dx, X, Y, phi_x, phi_y, x, y,sigma):\n",
    "    weights = Gauss_pdf_2D(X, Y, x, y, sigma)\n",
    "    return np.array([\n",
    "        sum(phi_x*weights),\n",
    "        sum(phi_y*weights)\n",
    "    ])*dx**2"
   ]
  },
  {
   "cell_type": "code",
   "execution_count": 27,
   "id": "da55a712",
   "metadata": {},
   "outputs": [],
   "source": [
    "p_0    = np.array([[0, 0], [0.1, -0.5], [0.2, 0.5], [-0.1, 0.5], [-0.2, -0.5]])\n",
    "charge = np.array([ 1,      1,           -1,         -1,          1])"
   ]
  },
  {
   "cell_type": "code",
   "execution_count": 28,
   "id": "9fdb04f1",
   "metadata": {},
   "outputs": [],
   "source": [
    "b = particle(X, Y, *p_0[0, :], charge[0], 0.05)\n",
    "for i in range(1, len(charge)):\n",
    "    b += particle(X, Y, *p_0[i, :], charge[i], 0.05)"
   ]
  },
  {
   "cell_type": "code",
   "execution_count": 29,
   "id": "b0d035af",
   "metadata": {},
   "outputs": [],
   "source": [
    "@njit(nogil=True)\n",
    "def A_numba(x):\n",
    "    return laplace_2d_dirichlet(x, 0, 0, 0, 0)"
   ]
  },
  {
   "cell_type": "code",
   "execution_count": 32,
   "id": "aa3799ed",
   "metadata": {},
   "outputs": [
    {
     "name": "stdout",
     "output_type": "stream",
     "text": [
      "CPU times: user 73.4 ms, sys: 4.34 ms, total: 77.8 ms\n",
      "Wall time: 79.7 ms\n"
     ]
    }
   ],
   "source": [
    "%time _ = A(b)"
   ]
  },
  {
   "cell_type": "code",
   "execution_count": 33,
   "id": "8530c7ad",
   "metadata": {},
   "outputs": [
    {
     "name": "stdout",
     "output_type": "stream",
     "text": [
      "CPU times: user 104 µs, sys: 11 µs, total: 115 µs\n",
      "Wall time: 119 µs\n"
     ]
    }
   ],
   "source": [
    "%time _ = A_numba(b)"
   ]
  },
  {
   "cell_type": "code",
   "execution_count": 34,
   "id": "9b893e04",
   "metadata": {},
   "outputs": [
    {
     "name": "stdout",
     "output_type": "stream",
     "text": [
      "CPU times: user 3min 15s, sys: 7.68 s, total: 3min 22s\n",
      "Wall time: 3min 29s\n"
     ]
    }
   ],
   "source": [
    "%time _ = GMRES(A, b, x0, e, nmax_iter, restart, True)"
   ]
  },
  {
   "cell_type": "code",
   "execution_count": 35,
   "id": "468beb0c",
   "metadata": {},
   "outputs": [
    {
     "name": "stdout",
     "output_type": "stream",
     "text": [
      "CPU times: user 1.05 s, sys: 145 ms, total: 1.2 s\n",
      "Wall time: 1.22 s\n"
     ]
    }
   ],
   "source": [
    "%time _ = GMRES(A_numba, b, x0, e, nmax_iter, restart, True)"
   ]
  },
  {
   "cell_type": "code",
   "execution_count": 47,
   "id": "4fe70fb9",
   "metadata": {},
   "outputs": [
    {
     "name": "stdout",
     "output_type": "stream",
     "text": [
      "CPU times: user 517 ms, sys: 103 ms, total: 619 ms\n",
      "Wall time: 629 ms\n"
     ]
    }
   ],
   "source": [
    "%time _ = GMRES_numba(A_numba, b, x0, e, nmax_iter, restart, True)"
   ]
  }
 ],
 "metadata": {
  "kernelspec": {
   "display_name": "Python 3 (ipykernel)",
   "language": "python",
   "name": "python3"
  },
  "language_info": {
   "codemirror_mode": {
    "name": "ipython",
    "version": 3
   },
   "file_extension": ".py",
   "mimetype": "text/x-python",
   "name": "python",
   "nbconvert_exporter": "python",
   "pygments_lexer": "ipython3",
   "version": "3.9.9"
  }
 },
 "nbformat": 4,
 "nbformat_minor": 5
}
